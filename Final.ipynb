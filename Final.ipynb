{
 "cells": [
  {
   "cell_type": "code",
   "execution_count": null,
   "id": "7939c0df",
   "metadata": {},
   "outputs": [],
   "source": []
  },
  {
   "cell_type": "code",
   "execution_count": 2,
   "id": "8be91535",
   "metadata": {},
   "outputs": [],
   "source": [
    "import numpy as np\n",
    "import pandas as pd\n",
    "\n",
    "from sklearn.metrics import accuracy_score\n",
    "from sklearn.model_selection import train_test_split\n",
    "from sklearn.preprocessing import StandardScaler\n",
    "from sklearn.linear_model import LinearRegression\n",
    "from sklearn.linear_model import LogisticRegression\n",
    "from sklearn.preprocessing import OneHotEncoder\n",
    "from sklearn.compose import ColumnTransformer\n",
    "from sklearn.pipeline import Pipeline\n",
    "from sklearn.model_selection import train_test_split\n",
    "from sklearn.ensemble import RandomForestClassifier\n",
    "from sklearn.metrics import classification_report, accuracy_score\n",
    "from sklearn.preprocessing import OneHotEncoder\n",
    "from sklearn.model_selection import GridSearchCV\n",
    "from sklearn.impute import SimpleImputer\n",
    "from sklearn.tree import DecisionTreeClassifier\n",
    "from sklearn.svm import SVC\n",
    "from sklearn.neighbors import KNeighborsClassifier\n",
    "from sklearn.ensemble import AdaBoostClassifier\n",
    "from sklearn.ensemble import GradientBoostingClassifier\n",
    "from sklearn.metrics import accuracy_score\n",
    "from sklearn.preprocessing import StandardScaler\n",
    "\n",
    "\n",
    "import matplotlib.pyplot as plt\n",
    "import seaborn as sns\n",
    "from scipy.stats import gaussian_kde\n",
    "import plotly.express as px\n",
    "# set plotting size parameter\n",
    "plt.rcParams['figure.figsize'] = (17, 7)"
   ]
  },
  {
   "cell_type": "code",
   "execution_count": 3,
   "id": "991b18eb",
   "metadata": {},
   "outputs": [
    {
     "name": "stderr",
     "output_type": "stream",
     "text": [
      "C:\\Users\\wrzol\\anaconda3\\envs\\dsc80\\lib\\site-packages\\IPython\\core\\interactiveshell.py:3460: DtypeWarning: Columns (2) have mixed types.Specify dtype option on import or set low_memory=False.\n",
      "  exec(code_obj, self.user_global_ns, self.user_ns)\n"
     ]
    },
    {
     "data": {
      "text/html": [
       "<div>\n",
       "<style scoped>\n",
       "    .dataframe tbody tr th:only-of-type {\n",
       "        vertical-align: middle;\n",
       "    }\n",
       "\n",
       "    .dataframe tbody tr th {\n",
       "        vertical-align: top;\n",
       "    }\n",
       "\n",
       "    .dataframe thead th {\n",
       "        text-align: right;\n",
       "    }\n",
       "</style>\n",
       "<table border=\"1\" class=\"dataframe\">\n",
       "  <thead>\n",
       "    <tr style=\"text-align: right;\">\n",
       "      <th></th>\n",
       "      <th>gameid</th>\n",
       "      <th>datacompleteness</th>\n",
       "      <th>url</th>\n",
       "      <th>league</th>\n",
       "      <th>year</th>\n",
       "      <th>split</th>\n",
       "      <th>playoffs</th>\n",
       "      <th>date</th>\n",
       "      <th>game</th>\n",
       "      <th>patch</th>\n",
       "      <th>...</th>\n",
       "      <th>opp_csat15</th>\n",
       "      <th>golddiffat15</th>\n",
       "      <th>xpdiffat15</th>\n",
       "      <th>csdiffat15</th>\n",
       "      <th>killsat15</th>\n",
       "      <th>assistsat15</th>\n",
       "      <th>deathsat15</th>\n",
       "      <th>opp_killsat15</th>\n",
       "      <th>opp_assistsat15</th>\n",
       "      <th>opp_deathsat15</th>\n",
       "    </tr>\n",
       "  </thead>\n",
       "  <tbody>\n",
       "    <tr>\n",
       "      <th>0</th>\n",
       "      <td>ESPORTSTMNT06_2753012</td>\n",
       "      <td>complete</td>\n",
       "      <td>NaN</td>\n",
       "      <td>LFL2</td>\n",
       "      <td>2023</td>\n",
       "      <td>Spring</td>\n",
       "      <td>0</td>\n",
       "      <td>2023-01-10 17:07:16</td>\n",
       "      <td>1</td>\n",
       "      <td>13.01</td>\n",
       "      <td>...</td>\n",
       "      <td>131.0</td>\n",
       "      <td>322.0</td>\n",
       "      <td>263.0</td>\n",
       "      <td>12.0</td>\n",
       "      <td>0.0</td>\n",
       "      <td>0.0</td>\n",
       "      <td>0.0</td>\n",
       "      <td>0.0</td>\n",
       "      <td>0.0</td>\n",
       "      <td>0.0</td>\n",
       "    </tr>\n",
       "    <tr>\n",
       "      <th>1</th>\n",
       "      <td>ESPORTSTMNT06_2753012</td>\n",
       "      <td>complete</td>\n",
       "      <td>NaN</td>\n",
       "      <td>LFL2</td>\n",
       "      <td>2023</td>\n",
       "      <td>Spring</td>\n",
       "      <td>0</td>\n",
       "      <td>2023-01-10 17:07:16</td>\n",
       "      <td>1</td>\n",
       "      <td>13.01</td>\n",
       "      <td>...</td>\n",
       "      <td>117.0</td>\n",
       "      <td>-357.0</td>\n",
       "      <td>-1323.0</td>\n",
       "      <td>-43.0</td>\n",
       "      <td>0.0</td>\n",
       "      <td>0.0</td>\n",
       "      <td>0.0</td>\n",
       "      <td>0.0</td>\n",
       "      <td>0.0</td>\n",
       "      <td>0.0</td>\n",
       "    </tr>\n",
       "    <tr>\n",
       "      <th>2</th>\n",
       "      <td>ESPORTSTMNT06_2753012</td>\n",
       "      <td>complete</td>\n",
       "      <td>NaN</td>\n",
       "      <td>LFL2</td>\n",
       "      <td>2023</td>\n",
       "      <td>Spring</td>\n",
       "      <td>0</td>\n",
       "      <td>2023-01-10 17:07:16</td>\n",
       "      <td>1</td>\n",
       "      <td>13.01</td>\n",
       "      <td>...</td>\n",
       "      <td>162.0</td>\n",
       "      <td>-479.0</td>\n",
       "      <td>-324.0</td>\n",
       "      <td>-26.0</td>\n",
       "      <td>0.0</td>\n",
       "      <td>0.0</td>\n",
       "      <td>0.0</td>\n",
       "      <td>0.0</td>\n",
       "      <td>0.0</td>\n",
       "      <td>0.0</td>\n",
       "    </tr>\n",
       "    <tr>\n",
       "      <th>3</th>\n",
       "      <td>ESPORTSTMNT06_2753012</td>\n",
       "      <td>complete</td>\n",
       "      <td>NaN</td>\n",
       "      <td>LFL2</td>\n",
       "      <td>2023</td>\n",
       "      <td>Spring</td>\n",
       "      <td>0</td>\n",
       "      <td>2023-01-10 17:07:16</td>\n",
       "      <td>1</td>\n",
       "      <td>13.01</td>\n",
       "      <td>...</td>\n",
       "      <td>122.0</td>\n",
       "      <td>200.0</td>\n",
       "      <td>292.0</td>\n",
       "      <td>20.0</td>\n",
       "      <td>0.0</td>\n",
       "      <td>0.0</td>\n",
       "      <td>0.0</td>\n",
       "      <td>1.0</td>\n",
       "      <td>0.0</td>\n",
       "      <td>0.0</td>\n",
       "    </tr>\n",
       "    <tr>\n",
       "      <th>4</th>\n",
       "      <td>ESPORTSTMNT06_2753012</td>\n",
       "      <td>complete</td>\n",
       "      <td>NaN</td>\n",
       "      <td>LFL2</td>\n",
       "      <td>2023</td>\n",
       "      <td>Spring</td>\n",
       "      <td>0</td>\n",
       "      <td>2023-01-10 17:07:16</td>\n",
       "      <td>1</td>\n",
       "      <td>13.01</td>\n",
       "      <td>...</td>\n",
       "      <td>3.0</td>\n",
       "      <td>-216.0</td>\n",
       "      <td>-579.0</td>\n",
       "      <td>0.0</td>\n",
       "      <td>0.0</td>\n",
       "      <td>0.0</td>\n",
       "      <td>1.0</td>\n",
       "      <td>0.0</td>\n",
       "      <td>1.0</td>\n",
       "      <td>0.0</td>\n",
       "    </tr>\n",
       "    <tr>\n",
       "      <th>...</th>\n",
       "      <td>...</td>\n",
       "      <td>...</td>\n",
       "      <td>...</td>\n",
       "      <td>...</td>\n",
       "      <td>...</td>\n",
       "      <td>...</td>\n",
       "      <td>...</td>\n",
       "      <td>...</td>\n",
       "      <td>...</td>\n",
       "      <td>...</td>\n",
       "      <td>...</td>\n",
       "      <td>...</td>\n",
       "      <td>...</td>\n",
       "      <td>...</td>\n",
       "      <td>...</td>\n",
       "      <td>...</td>\n",
       "      <td>...</td>\n",
       "      <td>...</td>\n",
       "      <td>...</td>\n",
       "      <td>...</td>\n",
       "      <td>...</td>\n",
       "    </tr>\n",
       "    <tr>\n",
       "      <th>125899</th>\n",
       "      <td>10659-10659_game_4</td>\n",
       "      <td>partial</td>\n",
       "      <td>https://lpl.qq.com/es/stats.shtml?bmid=10659</td>\n",
       "      <td>DCup</td>\n",
       "      <td>2023</td>\n",
       "      <td>NaN</td>\n",
       "      <td>0</td>\n",
       "      <td>2023-12-31 11:48:06</td>\n",
       "      <td>4</td>\n",
       "      <td>13.24</td>\n",
       "      <td>...</td>\n",
       "      <td>NaN</td>\n",
       "      <td>NaN</td>\n",
       "      <td>NaN</td>\n",
       "      <td>NaN</td>\n",
       "      <td>NaN</td>\n",
       "      <td>NaN</td>\n",
       "      <td>NaN</td>\n",
       "      <td>NaN</td>\n",
       "      <td>NaN</td>\n",
       "      <td>NaN</td>\n",
       "    </tr>\n",
       "    <tr>\n",
       "      <th>125900</th>\n",
       "      <td>10659-10659_game_4</td>\n",
       "      <td>partial</td>\n",
       "      <td>https://lpl.qq.com/es/stats.shtml?bmid=10659</td>\n",
       "      <td>DCup</td>\n",
       "      <td>2023</td>\n",
       "      <td>NaN</td>\n",
       "      <td>0</td>\n",
       "      <td>2023-12-31 11:48:06</td>\n",
       "      <td>4</td>\n",
       "      <td>13.24</td>\n",
       "      <td>...</td>\n",
       "      <td>NaN</td>\n",
       "      <td>NaN</td>\n",
       "      <td>NaN</td>\n",
       "      <td>NaN</td>\n",
       "      <td>NaN</td>\n",
       "      <td>NaN</td>\n",
       "      <td>NaN</td>\n",
       "      <td>NaN</td>\n",
       "      <td>NaN</td>\n",
       "      <td>NaN</td>\n",
       "    </tr>\n",
       "    <tr>\n",
       "      <th>125901</th>\n",
       "      <td>10659-10659_game_4</td>\n",
       "      <td>partial</td>\n",
       "      <td>https://lpl.qq.com/es/stats.shtml?bmid=10659</td>\n",
       "      <td>DCup</td>\n",
       "      <td>2023</td>\n",
       "      <td>NaN</td>\n",
       "      <td>0</td>\n",
       "      <td>2023-12-31 11:48:06</td>\n",
       "      <td>4</td>\n",
       "      <td>13.24</td>\n",
       "      <td>...</td>\n",
       "      <td>NaN</td>\n",
       "      <td>NaN</td>\n",
       "      <td>NaN</td>\n",
       "      <td>NaN</td>\n",
       "      <td>NaN</td>\n",
       "      <td>NaN</td>\n",
       "      <td>NaN</td>\n",
       "      <td>NaN</td>\n",
       "      <td>NaN</td>\n",
       "      <td>NaN</td>\n",
       "    </tr>\n",
       "    <tr>\n",
       "      <th>125902</th>\n",
       "      <td>10659-10659_game_4</td>\n",
       "      <td>partial</td>\n",
       "      <td>https://lpl.qq.com/es/stats.shtml?bmid=10659</td>\n",
       "      <td>DCup</td>\n",
       "      <td>2023</td>\n",
       "      <td>NaN</td>\n",
       "      <td>0</td>\n",
       "      <td>2023-12-31 11:48:06</td>\n",
       "      <td>4</td>\n",
       "      <td>13.24</td>\n",
       "      <td>...</td>\n",
       "      <td>NaN</td>\n",
       "      <td>NaN</td>\n",
       "      <td>NaN</td>\n",
       "      <td>NaN</td>\n",
       "      <td>NaN</td>\n",
       "      <td>NaN</td>\n",
       "      <td>NaN</td>\n",
       "      <td>NaN</td>\n",
       "      <td>NaN</td>\n",
       "      <td>NaN</td>\n",
       "    </tr>\n",
       "    <tr>\n",
       "      <th>125903</th>\n",
       "      <td>10659-10659_game_4</td>\n",
       "      <td>partial</td>\n",
       "      <td>https://lpl.qq.com/es/stats.shtml?bmid=10659</td>\n",
       "      <td>DCup</td>\n",
       "      <td>2023</td>\n",
       "      <td>NaN</td>\n",
       "      <td>0</td>\n",
       "      <td>2023-12-31 11:48:06</td>\n",
       "      <td>4</td>\n",
       "      <td>13.24</td>\n",
       "      <td>...</td>\n",
       "      <td>NaN</td>\n",
       "      <td>NaN</td>\n",
       "      <td>NaN</td>\n",
       "      <td>NaN</td>\n",
       "      <td>NaN</td>\n",
       "      <td>NaN</td>\n",
       "      <td>NaN</td>\n",
       "      <td>NaN</td>\n",
       "      <td>NaN</td>\n",
       "      <td>NaN</td>\n",
       "    </tr>\n",
       "  </tbody>\n",
       "</table>\n",
       "<p>125904 rows × 131 columns</p>\n",
       "</div>"
      ],
      "text/plain": [
       "                       gameid datacompleteness  \\\n",
       "0       ESPORTSTMNT06_2753012         complete   \n",
       "1       ESPORTSTMNT06_2753012         complete   \n",
       "2       ESPORTSTMNT06_2753012         complete   \n",
       "3       ESPORTSTMNT06_2753012         complete   \n",
       "4       ESPORTSTMNT06_2753012         complete   \n",
       "...                       ...              ...   \n",
       "125899     10659-10659_game_4          partial   \n",
       "125900     10659-10659_game_4          partial   \n",
       "125901     10659-10659_game_4          partial   \n",
       "125902     10659-10659_game_4          partial   \n",
       "125903     10659-10659_game_4          partial   \n",
       "\n",
       "                                                 url league  year   split  \\\n",
       "0                                                NaN   LFL2  2023  Spring   \n",
       "1                                                NaN   LFL2  2023  Spring   \n",
       "2                                                NaN   LFL2  2023  Spring   \n",
       "3                                                NaN   LFL2  2023  Spring   \n",
       "4                                                NaN   LFL2  2023  Spring   \n",
       "...                                              ...    ...   ...     ...   \n",
       "125899  https://lpl.qq.com/es/stats.shtml?bmid=10659   DCup  2023     NaN   \n",
       "125900  https://lpl.qq.com/es/stats.shtml?bmid=10659   DCup  2023     NaN   \n",
       "125901  https://lpl.qq.com/es/stats.shtml?bmid=10659   DCup  2023     NaN   \n",
       "125902  https://lpl.qq.com/es/stats.shtml?bmid=10659   DCup  2023     NaN   \n",
       "125903  https://lpl.qq.com/es/stats.shtml?bmid=10659   DCup  2023     NaN   \n",
       "\n",
       "        playoffs                 date  game  patch  ...  opp_csat15  \\\n",
       "0              0  2023-01-10 17:07:16     1  13.01  ...       131.0   \n",
       "1              0  2023-01-10 17:07:16     1  13.01  ...       117.0   \n",
       "2              0  2023-01-10 17:07:16     1  13.01  ...       162.0   \n",
       "3              0  2023-01-10 17:07:16     1  13.01  ...       122.0   \n",
       "4              0  2023-01-10 17:07:16     1  13.01  ...         3.0   \n",
       "...          ...                  ...   ...    ...  ...         ...   \n",
       "125899         0  2023-12-31 11:48:06     4  13.24  ...         NaN   \n",
       "125900         0  2023-12-31 11:48:06     4  13.24  ...         NaN   \n",
       "125901         0  2023-12-31 11:48:06     4  13.24  ...         NaN   \n",
       "125902         0  2023-12-31 11:48:06     4  13.24  ...         NaN   \n",
       "125903         0  2023-12-31 11:48:06     4  13.24  ...         NaN   \n",
       "\n",
       "       golddiffat15 xpdiffat15 csdiffat15 killsat15 assistsat15 deathsat15  \\\n",
       "0             322.0      263.0       12.0       0.0         0.0        0.0   \n",
       "1            -357.0    -1323.0      -43.0       0.0         0.0        0.0   \n",
       "2            -479.0     -324.0      -26.0       0.0         0.0        0.0   \n",
       "3             200.0      292.0       20.0       0.0         0.0        0.0   \n",
       "4            -216.0     -579.0        0.0       0.0         0.0        1.0   \n",
       "...             ...        ...        ...       ...         ...        ...   \n",
       "125899          NaN        NaN        NaN       NaN         NaN        NaN   \n",
       "125900          NaN        NaN        NaN       NaN         NaN        NaN   \n",
       "125901          NaN        NaN        NaN       NaN         NaN        NaN   \n",
       "125902          NaN        NaN        NaN       NaN         NaN        NaN   \n",
       "125903          NaN        NaN        NaN       NaN         NaN        NaN   \n",
       "\n",
       "       opp_killsat15 opp_assistsat15 opp_deathsat15  \n",
       "0                0.0             0.0            0.0  \n",
       "1                0.0             0.0            0.0  \n",
       "2                0.0             0.0            0.0  \n",
       "3                1.0             0.0            0.0  \n",
       "4                0.0             1.0            0.0  \n",
       "...              ...             ...            ...  \n",
       "125899           NaN             NaN            NaN  \n",
       "125900           NaN             NaN            NaN  \n",
       "125901           NaN             NaN            NaN  \n",
       "125902           NaN             NaN            NaN  \n",
       "125903           NaN             NaN            NaN  \n",
       "\n",
       "[125904 rows x 131 columns]"
      ]
     },
     "execution_count": 3,
     "metadata": {},
     "output_type": "execute_result"
    }
   ],
   "source": [
    "df = pd.read_csv('2023_LoL_esports_match_data_from_OraclesElixir.csv')\n",
    "df"
   ]
  },
  {
   "cell_type": "markdown",
   "id": "9f835319",
   "metadata": {},
   "source": [
    "# Data Cleaning:"
   ]
  },
  {
   "cell_type": "code",
   "execution_count": 4,
   "id": "2b6ff92c",
   "metadata": {},
   "outputs": [
    {
     "data": {
      "text/plain": [
       "complete    105924\n",
       "partial      19980\n",
       "Name: datacompleteness, dtype: int64"
      ]
     },
     "execution_count": 4,
     "metadata": {},
     "output_type": "execute_result"
    }
   ],
   "source": [
    "#find the complete data\n",
    "df[\"datacompleteness\"].value_counts()"
   ]
  },
  {
   "cell_type": "code",
   "execution_count": 5,
   "id": "097d013f",
   "metadata": {},
   "outputs": [
    {
     "data": {
      "text/html": [
       "<div>\n",
       "<style scoped>\n",
       "    .dataframe tbody tr th:only-of-type {\n",
       "        vertical-align: middle;\n",
       "    }\n",
       "\n",
       "    .dataframe tbody tr th {\n",
       "        vertical-align: top;\n",
       "    }\n",
       "\n",
       "    .dataframe thead th {\n",
       "        text-align: right;\n",
       "    }\n",
       "</style>\n",
       "<table border=\"1\" class=\"dataframe\">\n",
       "  <thead>\n",
       "    <tr style=\"text-align: right;\">\n",
       "      <th></th>\n",
       "      <th>gameid</th>\n",
       "      <th>datacompleteness</th>\n",
       "      <th>url</th>\n",
       "      <th>league</th>\n",
       "      <th>year</th>\n",
       "      <th>split</th>\n",
       "      <th>playoffs</th>\n",
       "      <th>date</th>\n",
       "      <th>game</th>\n",
       "      <th>patch</th>\n",
       "      <th>...</th>\n",
       "      <th>opp_csat15</th>\n",
       "      <th>golddiffat15</th>\n",
       "      <th>xpdiffat15</th>\n",
       "      <th>csdiffat15</th>\n",
       "      <th>killsat15</th>\n",
       "      <th>assistsat15</th>\n",
       "      <th>deathsat15</th>\n",
       "      <th>opp_killsat15</th>\n",
       "      <th>opp_assistsat15</th>\n",
       "      <th>opp_deathsat15</th>\n",
       "    </tr>\n",
       "  </thead>\n",
       "  <tbody>\n",
       "    <tr>\n",
       "      <th>0</th>\n",
       "      <td>ESPORTSTMNT06_2753012</td>\n",
       "      <td>complete</td>\n",
       "      <td>NaN</td>\n",
       "      <td>LFL2</td>\n",
       "      <td>2023</td>\n",
       "      <td>Spring</td>\n",
       "      <td>0</td>\n",
       "      <td>2023-01-10 17:07:16</td>\n",
       "      <td>1</td>\n",
       "      <td>13.01</td>\n",
       "      <td>...</td>\n",
       "      <td>131.0</td>\n",
       "      <td>322.0</td>\n",
       "      <td>263.0</td>\n",
       "      <td>12.0</td>\n",
       "      <td>0.0</td>\n",
       "      <td>0.0</td>\n",
       "      <td>0.0</td>\n",
       "      <td>0.0</td>\n",
       "      <td>0.0</td>\n",
       "      <td>0.0</td>\n",
       "    </tr>\n",
       "    <tr>\n",
       "      <th>1</th>\n",
       "      <td>ESPORTSTMNT06_2753012</td>\n",
       "      <td>complete</td>\n",
       "      <td>NaN</td>\n",
       "      <td>LFL2</td>\n",
       "      <td>2023</td>\n",
       "      <td>Spring</td>\n",
       "      <td>0</td>\n",
       "      <td>2023-01-10 17:07:16</td>\n",
       "      <td>1</td>\n",
       "      <td>13.01</td>\n",
       "      <td>...</td>\n",
       "      <td>117.0</td>\n",
       "      <td>-357.0</td>\n",
       "      <td>-1323.0</td>\n",
       "      <td>-43.0</td>\n",
       "      <td>0.0</td>\n",
       "      <td>0.0</td>\n",
       "      <td>0.0</td>\n",
       "      <td>0.0</td>\n",
       "      <td>0.0</td>\n",
       "      <td>0.0</td>\n",
       "    </tr>\n",
       "    <tr>\n",
       "      <th>2</th>\n",
       "      <td>ESPORTSTMNT06_2753012</td>\n",
       "      <td>complete</td>\n",
       "      <td>NaN</td>\n",
       "      <td>LFL2</td>\n",
       "      <td>2023</td>\n",
       "      <td>Spring</td>\n",
       "      <td>0</td>\n",
       "      <td>2023-01-10 17:07:16</td>\n",
       "      <td>1</td>\n",
       "      <td>13.01</td>\n",
       "      <td>...</td>\n",
       "      <td>162.0</td>\n",
       "      <td>-479.0</td>\n",
       "      <td>-324.0</td>\n",
       "      <td>-26.0</td>\n",
       "      <td>0.0</td>\n",
       "      <td>0.0</td>\n",
       "      <td>0.0</td>\n",
       "      <td>0.0</td>\n",
       "      <td>0.0</td>\n",
       "      <td>0.0</td>\n",
       "    </tr>\n",
       "    <tr>\n",
       "      <th>3</th>\n",
       "      <td>ESPORTSTMNT06_2753012</td>\n",
       "      <td>complete</td>\n",
       "      <td>NaN</td>\n",
       "      <td>LFL2</td>\n",
       "      <td>2023</td>\n",
       "      <td>Spring</td>\n",
       "      <td>0</td>\n",
       "      <td>2023-01-10 17:07:16</td>\n",
       "      <td>1</td>\n",
       "      <td>13.01</td>\n",
       "      <td>...</td>\n",
       "      <td>122.0</td>\n",
       "      <td>200.0</td>\n",
       "      <td>292.0</td>\n",
       "      <td>20.0</td>\n",
       "      <td>0.0</td>\n",
       "      <td>0.0</td>\n",
       "      <td>0.0</td>\n",
       "      <td>1.0</td>\n",
       "      <td>0.0</td>\n",
       "      <td>0.0</td>\n",
       "    </tr>\n",
       "    <tr>\n",
       "      <th>4</th>\n",
       "      <td>ESPORTSTMNT06_2753012</td>\n",
       "      <td>complete</td>\n",
       "      <td>NaN</td>\n",
       "      <td>LFL2</td>\n",
       "      <td>2023</td>\n",
       "      <td>Spring</td>\n",
       "      <td>0</td>\n",
       "      <td>2023-01-10 17:07:16</td>\n",
       "      <td>1</td>\n",
       "      <td>13.01</td>\n",
       "      <td>...</td>\n",
       "      <td>3.0</td>\n",
       "      <td>-216.0</td>\n",
       "      <td>-579.0</td>\n",
       "      <td>0.0</td>\n",
       "      <td>0.0</td>\n",
       "      <td>0.0</td>\n",
       "      <td>1.0</td>\n",
       "      <td>0.0</td>\n",
       "      <td>1.0</td>\n",
       "      <td>0.0</td>\n",
       "    </tr>\n",
       "    <tr>\n",
       "      <th>...</th>\n",
       "      <td>...</td>\n",
       "      <td>...</td>\n",
       "      <td>...</td>\n",
       "      <td>...</td>\n",
       "      <td>...</td>\n",
       "      <td>...</td>\n",
       "      <td>...</td>\n",
       "      <td>...</td>\n",
       "      <td>...</td>\n",
       "      <td>...</td>\n",
       "      <td>...</td>\n",
       "      <td>...</td>\n",
       "      <td>...</td>\n",
       "      <td>...</td>\n",
       "      <td>...</td>\n",
       "      <td>...</td>\n",
       "      <td>...</td>\n",
       "      <td>...</td>\n",
       "      <td>...</td>\n",
       "      <td>...</td>\n",
       "      <td>...</td>\n",
       "    </tr>\n",
       "    <tr>\n",
       "      <th>125407</th>\n",
       "      <td>ESPORTSTMNT01_3438678</td>\n",
       "      <td>complete</td>\n",
       "      <td>NaN</td>\n",
       "      <td>NEXO</td>\n",
       "      <td>2024</td>\n",
       "      <td>Split 1</td>\n",
       "      <td>0</td>\n",
       "      <td>2023-11-20 19:59:21</td>\n",
       "      <td>2</td>\n",
       "      <td>13.22</td>\n",
       "      <td>...</td>\n",
       "      <td>135.0</td>\n",
       "      <td>131.0</td>\n",
       "      <td>66.0</td>\n",
       "      <td>4.0</td>\n",
       "      <td>1.0</td>\n",
       "      <td>0.0</td>\n",
       "      <td>0.0</td>\n",
       "      <td>1.0</td>\n",
       "      <td>2.0</td>\n",
       "      <td>0.0</td>\n",
       "    </tr>\n",
       "    <tr>\n",
       "      <th>125408</th>\n",
       "      <td>ESPORTSTMNT01_3438678</td>\n",
       "      <td>complete</td>\n",
       "      <td>NaN</td>\n",
       "      <td>NEXO</td>\n",
       "      <td>2024</td>\n",
       "      <td>Split 1</td>\n",
       "      <td>0</td>\n",
       "      <td>2023-11-20 19:59:21</td>\n",
       "      <td>2</td>\n",
       "      <td>13.22</td>\n",
       "      <td>...</td>\n",
       "      <td>129.0</td>\n",
       "      <td>-381.0</td>\n",
       "      <td>1106.0</td>\n",
       "      <td>13.0</td>\n",
       "      <td>0.0</td>\n",
       "      <td>0.0</td>\n",
       "      <td>1.0</td>\n",
       "      <td>3.0</td>\n",
       "      <td>0.0</td>\n",
       "      <td>1.0</td>\n",
       "    </tr>\n",
       "    <tr>\n",
       "      <th>125409</th>\n",
       "      <td>ESPORTSTMNT01_3438678</td>\n",
       "      <td>complete</td>\n",
       "      <td>NaN</td>\n",
       "      <td>NEXO</td>\n",
       "      <td>2024</td>\n",
       "      <td>Split 1</td>\n",
       "      <td>0</td>\n",
       "      <td>2023-11-20 19:59:21</td>\n",
       "      <td>2</td>\n",
       "      <td>13.22</td>\n",
       "      <td>...</td>\n",
       "      <td>27.0</td>\n",
       "      <td>-142.0</td>\n",
       "      <td>-769.0</td>\n",
       "      <td>-6.0</td>\n",
       "      <td>0.0</td>\n",
       "      <td>0.0</td>\n",
       "      <td>1.0</td>\n",
       "      <td>0.0</td>\n",
       "      <td>3.0</td>\n",
       "      <td>0.0</td>\n",
       "    </tr>\n",
       "    <tr>\n",
       "      <th>125410</th>\n",
       "      <td>ESPORTSTMNT01_3438678</td>\n",
       "      <td>complete</td>\n",
       "      <td>NaN</td>\n",
       "      <td>NEXO</td>\n",
       "      <td>2024</td>\n",
       "      <td>Split 1</td>\n",
       "      <td>0</td>\n",
       "      <td>2023-11-20 19:59:21</td>\n",
       "      <td>2</td>\n",
       "      <td>13.22</td>\n",
       "      <td>...</td>\n",
       "      <td>515.0</td>\n",
       "      <td>-660.0</td>\n",
       "      <td>-1568.0</td>\n",
       "      <td>-34.0</td>\n",
       "      <td>4.0</td>\n",
       "      <td>7.0</td>\n",
       "      <td>2.0</td>\n",
       "      <td>2.0</td>\n",
       "      <td>0.0</td>\n",
       "      <td>4.0</td>\n",
       "    </tr>\n",
       "    <tr>\n",
       "      <th>125411</th>\n",
       "      <td>ESPORTSTMNT01_3438678</td>\n",
       "      <td>complete</td>\n",
       "      <td>NaN</td>\n",
       "      <td>NEXO</td>\n",
       "      <td>2024</td>\n",
       "      <td>Split 1</td>\n",
       "      <td>0</td>\n",
       "      <td>2023-11-20 19:59:21</td>\n",
       "      <td>2</td>\n",
       "      <td>13.22</td>\n",
       "      <td>...</td>\n",
       "      <td>481.0</td>\n",
       "      <td>660.0</td>\n",
       "      <td>1568.0</td>\n",
       "      <td>34.0</td>\n",
       "      <td>2.0</td>\n",
       "      <td>0.0</td>\n",
       "      <td>4.0</td>\n",
       "      <td>4.0</td>\n",
       "      <td>7.0</td>\n",
       "      <td>2.0</td>\n",
       "    </tr>\n",
       "  </tbody>\n",
       "</table>\n",
       "<p>105924 rows × 131 columns</p>\n",
       "</div>"
      ],
      "text/plain": [
       "                       gameid datacompleteness  url league  year    split  \\\n",
       "0       ESPORTSTMNT06_2753012         complete  NaN   LFL2  2023   Spring   \n",
       "1       ESPORTSTMNT06_2753012         complete  NaN   LFL2  2023   Spring   \n",
       "2       ESPORTSTMNT06_2753012         complete  NaN   LFL2  2023   Spring   \n",
       "3       ESPORTSTMNT06_2753012         complete  NaN   LFL2  2023   Spring   \n",
       "4       ESPORTSTMNT06_2753012         complete  NaN   LFL2  2023   Spring   \n",
       "...                       ...              ...  ...    ...   ...      ...   \n",
       "125407  ESPORTSTMNT01_3438678         complete  NaN   NEXO  2024  Split 1   \n",
       "125408  ESPORTSTMNT01_3438678         complete  NaN   NEXO  2024  Split 1   \n",
       "125409  ESPORTSTMNT01_3438678         complete  NaN   NEXO  2024  Split 1   \n",
       "125410  ESPORTSTMNT01_3438678         complete  NaN   NEXO  2024  Split 1   \n",
       "125411  ESPORTSTMNT01_3438678         complete  NaN   NEXO  2024  Split 1   \n",
       "\n",
       "        playoffs                 date  game  patch  ...  opp_csat15  \\\n",
       "0              0  2023-01-10 17:07:16     1  13.01  ...       131.0   \n",
       "1              0  2023-01-10 17:07:16     1  13.01  ...       117.0   \n",
       "2              0  2023-01-10 17:07:16     1  13.01  ...       162.0   \n",
       "3              0  2023-01-10 17:07:16     1  13.01  ...       122.0   \n",
       "4              0  2023-01-10 17:07:16     1  13.01  ...         3.0   \n",
       "...          ...                  ...   ...    ...  ...         ...   \n",
       "125407         0  2023-11-20 19:59:21     2  13.22  ...       135.0   \n",
       "125408         0  2023-11-20 19:59:21     2  13.22  ...       129.0   \n",
       "125409         0  2023-11-20 19:59:21     2  13.22  ...        27.0   \n",
       "125410         0  2023-11-20 19:59:21     2  13.22  ...       515.0   \n",
       "125411         0  2023-11-20 19:59:21     2  13.22  ...       481.0   \n",
       "\n",
       "       golddiffat15 xpdiffat15 csdiffat15 killsat15 assistsat15 deathsat15  \\\n",
       "0             322.0      263.0       12.0       0.0         0.0        0.0   \n",
       "1            -357.0    -1323.0      -43.0       0.0         0.0        0.0   \n",
       "2            -479.0     -324.0      -26.0       0.0         0.0        0.0   \n",
       "3             200.0      292.0       20.0       0.0         0.0        0.0   \n",
       "4            -216.0     -579.0        0.0       0.0         0.0        1.0   \n",
       "...             ...        ...        ...       ...         ...        ...   \n",
       "125407        131.0       66.0        4.0       1.0         0.0        0.0   \n",
       "125408       -381.0     1106.0       13.0       0.0         0.0        1.0   \n",
       "125409       -142.0     -769.0       -6.0       0.0         0.0        1.0   \n",
       "125410       -660.0    -1568.0      -34.0       4.0         7.0        2.0   \n",
       "125411        660.0     1568.0       34.0       2.0         0.0        4.0   \n",
       "\n",
       "       opp_killsat15 opp_assistsat15 opp_deathsat15  \n",
       "0                0.0             0.0            0.0  \n",
       "1                0.0             0.0            0.0  \n",
       "2                0.0             0.0            0.0  \n",
       "3                1.0             0.0            0.0  \n",
       "4                0.0             1.0            0.0  \n",
       "...              ...             ...            ...  \n",
       "125407           1.0             2.0            0.0  \n",
       "125408           3.0             0.0            1.0  \n",
       "125409           0.0             3.0            0.0  \n",
       "125410           2.0             0.0            4.0  \n",
       "125411           4.0             7.0            2.0  \n",
       "\n",
       "[105924 rows x 131 columns]"
      ]
     },
     "execution_count": 5,
     "metadata": {},
     "output_type": "execute_result"
    }
   ],
   "source": [
    "complete_data= df[df[\"datacompleteness\"]== 'complete']\n",
    "complete_data"
   ]
  },
  {
   "cell_type": "code",
   "execution_count": 6,
   "id": "659f270f",
   "metadata": {},
   "outputs": [
    {
     "data": {
      "text/plain": [
       "array(['top', 'jng', 'mid', 'bot', 'sup', 'team'], dtype=object)"
      ]
     },
     "execution_count": 6,
     "metadata": {},
     "output_type": "execute_result"
    }
   ],
   "source": [
    "#positions\n",
    "complete_data['position'].unique()"
   ]
  },
  {
   "cell_type": "code",
   "execution_count": 7,
   "id": "4864245b",
   "metadata": {},
   "outputs": [
    {
     "data": {
      "text/html": [
       "<div>\n",
       "<style scoped>\n",
       "    .dataframe tbody tr th:only-of-type {\n",
       "        vertical-align: middle;\n",
       "    }\n",
       "\n",
       "    .dataframe tbody tr th {\n",
       "        vertical-align: top;\n",
       "    }\n",
       "\n",
       "    .dataframe thead th {\n",
       "        text-align: right;\n",
       "    }\n",
       "</style>\n",
       "<table border=\"1\" class=\"dataframe\">\n",
       "  <thead>\n",
       "    <tr style=\"text-align: right;\">\n",
       "      <th></th>\n",
       "      <th>gameid</th>\n",
       "      <th>datacompleteness</th>\n",
       "      <th>url</th>\n",
       "      <th>league</th>\n",
       "      <th>year</th>\n",
       "      <th>split</th>\n",
       "      <th>playoffs</th>\n",
       "      <th>date</th>\n",
       "      <th>game</th>\n",
       "      <th>patch</th>\n",
       "      <th>...</th>\n",
       "      <th>opp_csat15</th>\n",
       "      <th>golddiffat15</th>\n",
       "      <th>xpdiffat15</th>\n",
       "      <th>csdiffat15</th>\n",
       "      <th>killsat15</th>\n",
       "      <th>assistsat15</th>\n",
       "      <th>deathsat15</th>\n",
       "      <th>opp_killsat15</th>\n",
       "      <th>opp_assistsat15</th>\n",
       "      <th>opp_deathsat15</th>\n",
       "    </tr>\n",
       "  </thead>\n",
       "  <tbody>\n",
       "    <tr>\n",
       "      <th>10</th>\n",
       "      <td>ESPORTSTMNT06_2753012</td>\n",
       "      <td>complete</td>\n",
       "      <td>NaN</td>\n",
       "      <td>LFL2</td>\n",
       "      <td>2023</td>\n",
       "      <td>Spring</td>\n",
       "      <td>0</td>\n",
       "      <td>2023-01-10 17:07:16</td>\n",
       "      <td>1</td>\n",
       "      <td>13.01</td>\n",
       "      <td>...</td>\n",
       "      <td>535.0</td>\n",
       "      <td>-530.0</td>\n",
       "      <td>-1671.0</td>\n",
       "      <td>-37.0</td>\n",
       "      <td>0.0</td>\n",
       "      <td>0.0</td>\n",
       "      <td>1.0</td>\n",
       "      <td>1.0</td>\n",
       "      <td>1.0</td>\n",
       "      <td>0.0</td>\n",
       "    </tr>\n",
       "    <tr>\n",
       "      <th>11</th>\n",
       "      <td>ESPORTSTMNT06_2753012</td>\n",
       "      <td>complete</td>\n",
       "      <td>NaN</td>\n",
       "      <td>LFL2</td>\n",
       "      <td>2023</td>\n",
       "      <td>Spring</td>\n",
       "      <td>0</td>\n",
       "      <td>2023-01-10 17:07:16</td>\n",
       "      <td>1</td>\n",
       "      <td>13.01</td>\n",
       "      <td>...</td>\n",
       "      <td>498.0</td>\n",
       "      <td>530.0</td>\n",
       "      <td>1671.0</td>\n",
       "      <td>37.0</td>\n",
       "      <td>1.0</td>\n",
       "      <td>1.0</td>\n",
       "      <td>0.0</td>\n",
       "      <td>0.0</td>\n",
       "      <td>0.0</td>\n",
       "      <td>1.0</td>\n",
       "    </tr>\n",
       "    <tr>\n",
       "      <th>22</th>\n",
       "      <td>ESPORTSTMNT06_2754023</td>\n",
       "      <td>complete</td>\n",
       "      <td>NaN</td>\n",
       "      <td>LFL2</td>\n",
       "      <td>2023</td>\n",
       "      <td>Spring</td>\n",
       "      <td>0</td>\n",
       "      <td>2023-01-10 18:15:01</td>\n",
       "      <td>1</td>\n",
       "      <td>13.01</td>\n",
       "      <td>...</td>\n",
       "      <td>532.0</td>\n",
       "      <td>673.0</td>\n",
       "      <td>530.0</td>\n",
       "      <td>-34.0</td>\n",
       "      <td>4.0</td>\n",
       "      <td>6.0</td>\n",
       "      <td>3.0</td>\n",
       "      <td>3.0</td>\n",
       "      <td>4.0</td>\n",
       "      <td>4.0</td>\n",
       "    </tr>\n",
       "    <tr>\n",
       "      <th>23</th>\n",
       "      <td>ESPORTSTMNT06_2754023</td>\n",
       "      <td>complete</td>\n",
       "      <td>NaN</td>\n",
       "      <td>LFL2</td>\n",
       "      <td>2023</td>\n",
       "      <td>Spring</td>\n",
       "      <td>0</td>\n",
       "      <td>2023-01-10 18:15:01</td>\n",
       "      <td>1</td>\n",
       "      <td>13.01</td>\n",
       "      <td>...</td>\n",
       "      <td>498.0</td>\n",
       "      <td>-673.0</td>\n",
       "      <td>-530.0</td>\n",
       "      <td>34.0</td>\n",
       "      <td>3.0</td>\n",
       "      <td>4.0</td>\n",
       "      <td>4.0</td>\n",
       "      <td>4.0</td>\n",
       "      <td>6.0</td>\n",
       "      <td>3.0</td>\n",
       "    </tr>\n",
       "    <tr>\n",
       "      <th>34</th>\n",
       "      <td>ESPORTSTMNT06_2755035</td>\n",
       "      <td>complete</td>\n",
       "      <td>NaN</td>\n",
       "      <td>LFL2</td>\n",
       "      <td>2023</td>\n",
       "      <td>Spring</td>\n",
       "      <td>0</td>\n",
       "      <td>2023-01-10 19:20:51</td>\n",
       "      <td>1</td>\n",
       "      <td>13.01</td>\n",
       "      <td>...</td>\n",
       "      <td>452.0</td>\n",
       "      <td>-1901.0</td>\n",
       "      <td>-763.0</td>\n",
       "      <td>58.0</td>\n",
       "      <td>2.0</td>\n",
       "      <td>1.0</td>\n",
       "      <td>4.0</td>\n",
       "      <td>4.0</td>\n",
       "      <td>6.0</td>\n",
       "      <td>2.0</td>\n",
       "    </tr>\n",
       "    <tr>\n",
       "      <th>...</th>\n",
       "      <td>...</td>\n",
       "      <td>...</td>\n",
       "      <td>...</td>\n",
       "      <td>...</td>\n",
       "      <td>...</td>\n",
       "      <td>...</td>\n",
       "      <td>...</td>\n",
       "      <td>...</td>\n",
       "      <td>...</td>\n",
       "      <td>...</td>\n",
       "      <td>...</td>\n",
       "      <td>...</td>\n",
       "      <td>...</td>\n",
       "      <td>...</td>\n",
       "      <td>...</td>\n",
       "      <td>...</td>\n",
       "      <td>...</td>\n",
       "      <td>...</td>\n",
       "      <td>...</td>\n",
       "      <td>...</td>\n",
       "      <td>...</td>\n",
       "    </tr>\n",
       "    <tr>\n",
       "      <th>125387</th>\n",
       "      <td>ESPORTSTMNT01_3438649</td>\n",
       "      <td>complete</td>\n",
       "      <td>NaN</td>\n",
       "      <td>NEXO</td>\n",
       "      <td>2024</td>\n",
       "      <td>Split 1</td>\n",
       "      <td>0</td>\n",
       "      <td>2023-11-20 17:50:57</td>\n",
       "      <td>3</td>\n",
       "      <td>13.22</td>\n",
       "      <td>...</td>\n",
       "      <td>521.0</td>\n",
       "      <td>31.0</td>\n",
       "      <td>1299.0</td>\n",
       "      <td>19.0</td>\n",
       "      <td>4.0</td>\n",
       "      <td>13.0</td>\n",
       "      <td>2.0</td>\n",
       "      <td>1.0</td>\n",
       "      <td>3.0</td>\n",
       "      <td>4.0</td>\n",
       "    </tr>\n",
       "    <tr>\n",
       "      <th>125398</th>\n",
       "      <td>ESPORTSTMNT01_3436660</td>\n",
       "      <td>complete</td>\n",
       "      <td>NaN</td>\n",
       "      <td>NEXO</td>\n",
       "      <td>2024</td>\n",
       "      <td>Split 1</td>\n",
       "      <td>0</td>\n",
       "      <td>2023-11-20 19:05:47</td>\n",
       "      <td>1</td>\n",
       "      <td>13.22</td>\n",
       "      <td>...</td>\n",
       "      <td>461.0</td>\n",
       "      <td>-75.0</td>\n",
       "      <td>545.0</td>\n",
       "      <td>54.0</td>\n",
       "      <td>3.0</td>\n",
       "      <td>4.0</td>\n",
       "      <td>5.0</td>\n",
       "      <td>5.0</td>\n",
       "      <td>9.0</td>\n",
       "      <td>3.0</td>\n",
       "    </tr>\n",
       "    <tr>\n",
       "      <th>125399</th>\n",
       "      <td>ESPORTSTMNT01_3436660</td>\n",
       "      <td>complete</td>\n",
       "      <td>NaN</td>\n",
       "      <td>NEXO</td>\n",
       "      <td>2024</td>\n",
       "      <td>Split 1</td>\n",
       "      <td>0</td>\n",
       "      <td>2023-11-20 19:05:47</td>\n",
       "      <td>1</td>\n",
       "      <td>13.22</td>\n",
       "      <td>...</td>\n",
       "      <td>515.0</td>\n",
       "      <td>75.0</td>\n",
       "      <td>-545.0</td>\n",
       "      <td>-54.0</td>\n",
       "      <td>5.0</td>\n",
       "      <td>9.0</td>\n",
       "      <td>3.0</td>\n",
       "      <td>3.0</td>\n",
       "      <td>4.0</td>\n",
       "      <td>5.0</td>\n",
       "    </tr>\n",
       "    <tr>\n",
       "      <th>125410</th>\n",
       "      <td>ESPORTSTMNT01_3438678</td>\n",
       "      <td>complete</td>\n",
       "      <td>NaN</td>\n",
       "      <td>NEXO</td>\n",
       "      <td>2024</td>\n",
       "      <td>Split 1</td>\n",
       "      <td>0</td>\n",
       "      <td>2023-11-20 19:59:21</td>\n",
       "      <td>2</td>\n",
       "      <td>13.22</td>\n",
       "      <td>...</td>\n",
       "      <td>515.0</td>\n",
       "      <td>-660.0</td>\n",
       "      <td>-1568.0</td>\n",
       "      <td>-34.0</td>\n",
       "      <td>4.0</td>\n",
       "      <td>7.0</td>\n",
       "      <td>2.0</td>\n",
       "      <td>2.0</td>\n",
       "      <td>0.0</td>\n",
       "      <td>4.0</td>\n",
       "    </tr>\n",
       "    <tr>\n",
       "      <th>125411</th>\n",
       "      <td>ESPORTSTMNT01_3438678</td>\n",
       "      <td>complete</td>\n",
       "      <td>NaN</td>\n",
       "      <td>NEXO</td>\n",
       "      <td>2024</td>\n",
       "      <td>Split 1</td>\n",
       "      <td>0</td>\n",
       "      <td>2023-11-20 19:59:21</td>\n",
       "      <td>2</td>\n",
       "      <td>13.22</td>\n",
       "      <td>...</td>\n",
       "      <td>481.0</td>\n",
       "      <td>660.0</td>\n",
       "      <td>1568.0</td>\n",
       "      <td>34.0</td>\n",
       "      <td>2.0</td>\n",
       "      <td>0.0</td>\n",
       "      <td>4.0</td>\n",
       "      <td>4.0</td>\n",
       "      <td>7.0</td>\n",
       "      <td>2.0</td>\n",
       "    </tr>\n",
       "  </tbody>\n",
       "</table>\n",
       "<p>17654 rows × 131 columns</p>\n",
       "</div>"
      ],
      "text/plain": [
       "                       gameid datacompleteness  url league  year    split  \\\n",
       "10      ESPORTSTMNT06_2753012         complete  NaN   LFL2  2023   Spring   \n",
       "11      ESPORTSTMNT06_2753012         complete  NaN   LFL2  2023   Spring   \n",
       "22      ESPORTSTMNT06_2754023         complete  NaN   LFL2  2023   Spring   \n",
       "23      ESPORTSTMNT06_2754023         complete  NaN   LFL2  2023   Spring   \n",
       "34      ESPORTSTMNT06_2755035         complete  NaN   LFL2  2023   Spring   \n",
       "...                       ...              ...  ...    ...   ...      ...   \n",
       "125387  ESPORTSTMNT01_3438649         complete  NaN   NEXO  2024  Split 1   \n",
       "125398  ESPORTSTMNT01_3436660         complete  NaN   NEXO  2024  Split 1   \n",
       "125399  ESPORTSTMNT01_3436660         complete  NaN   NEXO  2024  Split 1   \n",
       "125410  ESPORTSTMNT01_3438678         complete  NaN   NEXO  2024  Split 1   \n",
       "125411  ESPORTSTMNT01_3438678         complete  NaN   NEXO  2024  Split 1   \n",
       "\n",
       "        playoffs                 date  game  patch  ...  opp_csat15  \\\n",
       "10             0  2023-01-10 17:07:16     1  13.01  ...       535.0   \n",
       "11             0  2023-01-10 17:07:16     1  13.01  ...       498.0   \n",
       "22             0  2023-01-10 18:15:01     1  13.01  ...       532.0   \n",
       "23             0  2023-01-10 18:15:01     1  13.01  ...       498.0   \n",
       "34             0  2023-01-10 19:20:51     1  13.01  ...       452.0   \n",
       "...          ...                  ...   ...    ...  ...         ...   \n",
       "125387         0  2023-11-20 17:50:57     3  13.22  ...       521.0   \n",
       "125398         0  2023-11-20 19:05:47     1  13.22  ...       461.0   \n",
       "125399         0  2023-11-20 19:05:47     1  13.22  ...       515.0   \n",
       "125410         0  2023-11-20 19:59:21     2  13.22  ...       515.0   \n",
       "125411         0  2023-11-20 19:59:21     2  13.22  ...       481.0   \n",
       "\n",
       "       golddiffat15 xpdiffat15 csdiffat15 killsat15 assistsat15 deathsat15  \\\n",
       "10           -530.0    -1671.0      -37.0       0.0         0.0        1.0   \n",
       "11            530.0     1671.0       37.0       1.0         1.0        0.0   \n",
       "22            673.0      530.0      -34.0       4.0         6.0        3.0   \n",
       "23           -673.0     -530.0       34.0       3.0         4.0        4.0   \n",
       "34          -1901.0     -763.0       58.0       2.0         1.0        4.0   \n",
       "...             ...        ...        ...       ...         ...        ...   \n",
       "125387         31.0     1299.0       19.0       4.0        13.0        2.0   \n",
       "125398        -75.0      545.0       54.0       3.0         4.0        5.0   \n",
       "125399         75.0     -545.0      -54.0       5.0         9.0        3.0   \n",
       "125410       -660.0    -1568.0      -34.0       4.0         7.0        2.0   \n",
       "125411        660.0     1568.0       34.0       2.0         0.0        4.0   \n",
       "\n",
       "       opp_killsat15 opp_assistsat15 opp_deathsat15  \n",
       "10               1.0             1.0            0.0  \n",
       "11               0.0             0.0            1.0  \n",
       "22               3.0             4.0            4.0  \n",
       "23               4.0             6.0            3.0  \n",
       "34               4.0             6.0            2.0  \n",
       "...              ...             ...            ...  \n",
       "125387           1.0             3.0            4.0  \n",
       "125398           5.0             9.0            3.0  \n",
       "125399           3.0             4.0            5.0  \n",
       "125410           2.0             0.0            4.0  \n",
       "125411           4.0             7.0            2.0  \n",
       "\n",
       "[17654 rows x 131 columns]"
      ]
     },
     "execution_count": 7,
     "metadata": {},
     "output_type": "execute_result"
    }
   ],
   "source": [
    "#I choose to use the agregate data which is team instead of other specific position\n",
    "team_data = complete_data[complete_data['position'] == 'team']\n",
    "team_data"
   ]
  },
  {
   "cell_type": "code",
   "execution_count": 8,
   "id": "c4a7d759",
   "metadata": {},
   "outputs": [
    {
     "data": {
      "text/plain": [
       "['goldat15',\n",
       " 'xpat15',\n",
       " 'csat15',\n",
       " 'opp_goldat15',\n",
       " 'opp_xpat15',\n",
       " 'opp_csat15',\n",
       " 'golddiffat15',\n",
       " 'xpdiffat15',\n",
       " 'csdiffat15',\n",
       " 'killsat15',\n",
       " 'assistsat15',\n",
       " 'deathsat15',\n",
       " 'opp_killsat15',\n",
       " 'opp_assistsat15',\n",
       " 'opp_deathsat15']"
      ]
     },
     "execution_count": 8,
     "metadata": {},
     "output_type": "execute_result"
    }
   ],
   "source": [
    "#find the data for 15 miniutes mark\n",
    "columns_with_15 = [col for col in team_data.columns if '15' in col]\n",
    "columns_with_15"
   ]
  },
  {
   "cell_type": "code",
   "execution_count": 9,
   "id": "48414022",
   "metadata": {},
   "outputs": [
    {
     "data": {
      "text/plain": [
       "Index(['gameid', 'datacompleteness', 'url', 'league', 'year', 'split',\n",
       "       'playoffs', 'date', 'game', 'patch',\n",
       "       ...\n",
       "       'opp_csat15', 'golddiffat15', 'xpdiffat15', 'csdiffat15', 'killsat15',\n",
       "       'assistsat15', 'deathsat15', 'opp_killsat15', 'opp_assistsat15',\n",
       "       'opp_deathsat15'],\n",
       "      dtype='object', length=131)"
      ]
     },
     "execution_count": 9,
     "metadata": {},
     "output_type": "execute_result"
    }
   ],
   "source": [
    "team_data.columns"
   ]
  },
  {
   "cell_type": "code",
   "execution_count": 10,
   "id": "a64276aa",
   "metadata": {},
   "outputs": [
    {
     "name": "stderr",
     "output_type": "stream",
     "text": [
      "C:\\Users\\wrzol\\AppData\\Local\\Temp\\ipykernel_24608\\3441190771.py:1: SettingWithCopyWarning: \n",
      "A value is trying to be set on a copy of a slice from a DataFrame.\n",
      "Try using .loc[row_indexer,col_indexer] = value instead\n",
      "\n",
      "See the caveats in the documentation: https://pandas.pydata.org/pandas-docs/stable/user_guide/indexing.html#returning-a-view-versus-a-copy\n",
      "  team_data[\"killdiffat15\"] = team_data['killsat15']-team_data['opp_killsat15']\n",
      "C:\\Users\\wrzol\\AppData\\Local\\Temp\\ipykernel_24608\\3441190771.py:2: SettingWithCopyWarning: \n",
      "A value is trying to be set on a copy of a slice from a DataFrame.\n",
      "Try using .loc[row_indexer,col_indexer] = value instead\n",
      "\n",
      "See the caveats in the documentation: https://pandas.pydata.org/pandas-docs/stable/user_guide/indexing.html#returning-a-view-versus-a-copy\n",
      "  team_data[\"assistdiffat15\"] = team_data['assistsat15']-team_data['opp_assistsat15']\n",
      "C:\\Users\\wrzol\\AppData\\Local\\Temp\\ipykernel_24608\\3441190771.py:3: SettingWithCopyWarning: \n",
      "A value is trying to be set on a copy of a slice from a DataFrame.\n",
      "Try using .loc[row_indexer,col_indexer] = value instead\n",
      "\n",
      "See the caveats in the documentation: https://pandas.pydata.org/pandas-docs/stable/user_guide/indexing.html#returning-a-view-versus-a-copy\n",
      "  team_data[\"deathdiffat15\"] = team_data['deathsat15']-team_data['opp_deathsat15']\n"
     ]
    }
   ],
   "source": [
    "team_data[\"killdiffat15\"] = team_data['killsat15']-team_data['opp_killsat15']\n",
    "team_data[\"assistdiffat15\"] = team_data['assistsat15']-team_data['opp_assistsat15']\n",
    "team_data[\"deathdiffat15\"] = team_data['deathsat15']-team_data['opp_deathsat15']"
   ]
  },
  {
   "cell_type": "code",
   "execution_count": 11,
   "id": "68103c03",
   "metadata": {},
   "outputs": [
    {
     "data": {
      "text/plain": [
       "array([1, 0], dtype=int64)"
      ]
     },
     "execution_count": 11,
     "metadata": {},
     "output_type": "execute_result"
    }
   ],
   "source": [
    "#data type for result\n",
    "team_data['result'].unique()"
   ]
  },
  {
   "cell_type": "code",
   "execution_count": 12,
   "id": "d1e1d472",
   "metadata": {},
   "outputs": [],
   "source": [
    "#choosing the columns for EDA\n",
    "selected = ['firstblood','firstdragon','firsttower','result','golddiffat15','csdiffat15','xpdiffat15',\"killdiffat15\",\"assistdiffat15\",\"deathdiffat15\"]"
   ]
  },
  {
   "cell_type": "code",
   "execution_count": null,
   "id": "c13aac33",
   "metadata": {},
   "outputs": [],
   "source": []
  },
  {
   "cell_type": "code",
   "execution_count": 13,
   "id": "16216303",
   "metadata": {},
   "outputs": [
    {
     "data": {
      "text/html": [
       "<div>\n",
       "<style scoped>\n",
       "    .dataframe tbody tr th:only-of-type {\n",
       "        vertical-align: middle;\n",
       "    }\n",
       "\n",
       "    .dataframe tbody tr th {\n",
       "        vertical-align: top;\n",
       "    }\n",
       "\n",
       "    .dataframe thead th {\n",
       "        text-align: right;\n",
       "    }\n",
       "</style>\n",
       "<table border=\"1\" class=\"dataframe\">\n",
       "  <thead>\n",
       "    <tr style=\"text-align: right;\">\n",
       "      <th></th>\n",
       "      <th>firstblood</th>\n",
       "      <th>firstdragon</th>\n",
       "      <th>firsttower</th>\n",
       "      <th>result</th>\n",
       "      <th>golddiffat15</th>\n",
       "      <th>csdiffat15</th>\n",
       "      <th>xpdiffat15</th>\n",
       "      <th>killdiffat15</th>\n",
       "      <th>assistdiffat15</th>\n",
       "      <th>deathdiffat15</th>\n",
       "    </tr>\n",
       "  </thead>\n",
       "  <tbody>\n",
       "    <tr>\n",
       "      <th>10</th>\n",
       "      <td>0.0</td>\n",
       "      <td>0.0</td>\n",
       "      <td>1.0</td>\n",
       "      <td>1</td>\n",
       "      <td>-530.0</td>\n",
       "      <td>-37.0</td>\n",
       "      <td>-1671.0</td>\n",
       "      <td>-1.0</td>\n",
       "      <td>-1.0</td>\n",
       "      <td>1.0</td>\n",
       "    </tr>\n",
       "    <tr>\n",
       "      <th>11</th>\n",
       "      <td>1.0</td>\n",
       "      <td>1.0</td>\n",
       "      <td>0.0</td>\n",
       "      <td>0</td>\n",
       "      <td>530.0</td>\n",
       "      <td>37.0</td>\n",
       "      <td>1671.0</td>\n",
       "      <td>1.0</td>\n",
       "      <td>1.0</td>\n",
       "      <td>-1.0</td>\n",
       "    </tr>\n",
       "    <tr>\n",
       "      <th>22</th>\n",
       "      <td>0.0</td>\n",
       "      <td>0.0</td>\n",
       "      <td>0.0</td>\n",
       "      <td>0</td>\n",
       "      <td>673.0</td>\n",
       "      <td>-34.0</td>\n",
       "      <td>530.0</td>\n",
       "      <td>1.0</td>\n",
       "      <td>2.0</td>\n",
       "      <td>-1.0</td>\n",
       "    </tr>\n",
       "    <tr>\n",
       "      <th>23</th>\n",
       "      <td>1.0</td>\n",
       "      <td>1.0</td>\n",
       "      <td>1.0</td>\n",
       "      <td>1</td>\n",
       "      <td>-673.0</td>\n",
       "      <td>34.0</td>\n",
       "      <td>-530.0</td>\n",
       "      <td>-1.0</td>\n",
       "      <td>-2.0</td>\n",
       "      <td>1.0</td>\n",
       "    </tr>\n",
       "    <tr>\n",
       "      <th>34</th>\n",
       "      <td>0.0</td>\n",
       "      <td>0.0</td>\n",
       "      <td>0.0</td>\n",
       "      <td>1</td>\n",
       "      <td>-1901.0</td>\n",
       "      <td>58.0</td>\n",
       "      <td>-763.0</td>\n",
       "      <td>-2.0</td>\n",
       "      <td>-5.0</td>\n",
       "      <td>2.0</td>\n",
       "    </tr>\n",
       "    <tr>\n",
       "      <th>...</th>\n",
       "      <td>...</td>\n",
       "      <td>...</td>\n",
       "      <td>...</td>\n",
       "      <td>...</td>\n",
       "      <td>...</td>\n",
       "      <td>...</td>\n",
       "      <td>...</td>\n",
       "      <td>...</td>\n",
       "      <td>...</td>\n",
       "      <td>...</td>\n",
       "    </tr>\n",
       "    <tr>\n",
       "      <th>125387</th>\n",
       "      <td>0.0</td>\n",
       "      <td>1.0</td>\n",
       "      <td>0.0</td>\n",
       "      <td>0</td>\n",
       "      <td>31.0</td>\n",
       "      <td>19.0</td>\n",
       "      <td>1299.0</td>\n",
       "      <td>3.0</td>\n",
       "      <td>10.0</td>\n",
       "      <td>-2.0</td>\n",
       "    </tr>\n",
       "    <tr>\n",
       "      <th>125398</th>\n",
       "      <td>1.0</td>\n",
       "      <td>1.0</td>\n",
       "      <td>1.0</td>\n",
       "      <td>1</td>\n",
       "      <td>-75.0</td>\n",
       "      <td>54.0</td>\n",
       "      <td>545.0</td>\n",
       "      <td>-2.0</td>\n",
       "      <td>-5.0</td>\n",
       "      <td>2.0</td>\n",
       "    </tr>\n",
       "    <tr>\n",
       "      <th>125399</th>\n",
       "      <td>0.0</td>\n",
       "      <td>0.0</td>\n",
       "      <td>0.0</td>\n",
       "      <td>0</td>\n",
       "      <td>75.0</td>\n",
       "      <td>-54.0</td>\n",
       "      <td>-545.0</td>\n",
       "      <td>2.0</td>\n",
       "      <td>5.0</td>\n",
       "      <td>-2.0</td>\n",
       "    </tr>\n",
       "    <tr>\n",
       "      <th>125410</th>\n",
       "      <td>1.0</td>\n",
       "      <td>0.0</td>\n",
       "      <td>0.0</td>\n",
       "      <td>1</td>\n",
       "      <td>-660.0</td>\n",
       "      <td>-34.0</td>\n",
       "      <td>-1568.0</td>\n",
       "      <td>2.0</td>\n",
       "      <td>7.0</td>\n",
       "      <td>-2.0</td>\n",
       "    </tr>\n",
       "    <tr>\n",
       "      <th>125411</th>\n",
       "      <td>0.0</td>\n",
       "      <td>1.0</td>\n",
       "      <td>1.0</td>\n",
       "      <td>0</td>\n",
       "      <td>660.0</td>\n",
       "      <td>34.0</td>\n",
       "      <td>1568.0</td>\n",
       "      <td>-2.0</td>\n",
       "      <td>-7.0</td>\n",
       "      <td>2.0</td>\n",
       "    </tr>\n",
       "  </tbody>\n",
       "</table>\n",
       "<p>17654 rows × 10 columns</p>\n",
       "</div>"
      ],
      "text/plain": [
       "        firstblood  firstdragon  firsttower  result  golddiffat15  csdiffat15  \\\n",
       "10             0.0          0.0         1.0       1        -530.0       -37.0   \n",
       "11             1.0          1.0         0.0       0         530.0        37.0   \n",
       "22             0.0          0.0         0.0       0         673.0       -34.0   \n",
       "23             1.0          1.0         1.0       1        -673.0        34.0   \n",
       "34             0.0          0.0         0.0       1       -1901.0        58.0   \n",
       "...            ...          ...         ...     ...           ...         ...   \n",
       "125387         0.0          1.0         0.0       0          31.0        19.0   \n",
       "125398         1.0          1.0         1.0       1         -75.0        54.0   \n",
       "125399         0.0          0.0         0.0       0          75.0       -54.0   \n",
       "125410         1.0          0.0         0.0       1        -660.0       -34.0   \n",
       "125411         0.0          1.0         1.0       0         660.0        34.0   \n",
       "\n",
       "        xpdiffat15  killdiffat15  assistdiffat15  deathdiffat15  \n",
       "10         -1671.0          -1.0            -1.0            1.0  \n",
       "11          1671.0           1.0             1.0           -1.0  \n",
       "22           530.0           1.0             2.0           -1.0  \n",
       "23          -530.0          -1.0            -2.0            1.0  \n",
       "34          -763.0          -2.0            -5.0            2.0  \n",
       "...            ...           ...             ...            ...  \n",
       "125387      1299.0           3.0            10.0           -2.0  \n",
       "125398       545.0          -2.0            -5.0            2.0  \n",
       "125399      -545.0           2.0             5.0           -2.0  \n",
       "125410     -1568.0           2.0             7.0           -2.0  \n",
       "125411      1568.0          -2.0            -7.0            2.0  \n",
       "\n",
       "[17654 rows x 10 columns]"
      ]
     },
     "execution_count": 13,
     "metadata": {},
     "output_type": "execute_result"
    }
   ],
   "source": [
    "dff=team_data[selected]\n",
    "dff"
   ]
  },
  {
   "cell_type": "code",
   "execution_count": 14,
   "id": "5ade2d70",
   "metadata": {},
   "outputs": [
    {
     "data": {
      "text/plain": [
       "firstblood        0\n",
       "firstdragon       0\n",
       "firsttower        0\n",
       "result            0\n",
       "golddiffat15      2\n",
       "csdiffat15        2\n",
       "xpdiffat15        2\n",
       "killdiffat15      2\n",
       "assistdiffat15    2\n",
       "deathdiffat15     2\n",
       "dtype: int64"
      ]
     },
     "execution_count": 14,
     "metadata": {},
     "output_type": "execute_result"
    }
   ],
   "source": [
    "#finding missing value\n",
    "missing_counts = dff.isnull().sum()\n",
    "missing_counts"
   ]
  },
  {
   "cell_type": "code",
   "execution_count": null,
   "id": "b6cae38f",
   "metadata": {},
   "outputs": [],
   "source": []
  },
  {
   "cell_type": "code",
   "execution_count": 15,
   "id": "2a6cc820",
   "metadata": {},
   "outputs": [
    {
     "name": "stderr",
     "output_type": "stream",
     "text": [
      "C:\\Users\\wrzol\\AppData\\Local\\Temp\\ipykernel_24608\\675367402.py:4: SettingWithCopyWarning: \n",
      "A value is trying to be set on a copy of a slice from a DataFrame.\n",
      "Try using .loc[row_indexer,col_indexer] = value instead\n",
      "\n",
      "See the caveats in the documentation: https://pandas.pydata.org/pandas-docs/stable/user_guide/indexing.html#returning-a-view-versus-a-copy\n",
      "  dff[i] = dff[i].fillna(column_mean)\n"
     ]
    },
    {
     "data": {
      "text/plain": [
       "firstblood        0\n",
       "firstdragon       0\n",
       "firsttower        0\n",
       "result            0\n",
       "golddiffat15      0\n",
       "csdiffat15        0\n",
       "xpdiffat15        0\n",
       "killdiffat15      0\n",
       "assistdiffat15    0\n",
       "deathdiffat15     0\n",
       "dtype: int64"
      ]
     },
     "execution_count": 15,
     "metadata": {},
     "output_type": "execute_result"
    }
   ],
   "source": [
    "missing_list = ['golddiffat15','csdiffat15','xpdiffat15','killdiffat15','assistdiffat15','deathdiffat15']\n",
    "for i in missing_list:\n",
    "    column_mean = dff[i].mean()\n",
    "    dff[i] = dff[i].fillna(column_mean)\n",
    "missing_counts = dff.isnull().sum()\n",
    "missing_counts\n"
   ]
  },
  {
   "cell_type": "code",
   "execution_count": 16,
   "id": "5671f061",
   "metadata": {},
   "outputs": [
    {
     "data": {
      "text/html": [
       "<div>\n",
       "<style scoped>\n",
       "    .dataframe tbody tr th:only-of-type {\n",
       "        vertical-align: middle;\n",
       "    }\n",
       "\n",
       "    .dataframe tbody tr th {\n",
       "        vertical-align: top;\n",
       "    }\n",
       "\n",
       "    .dataframe thead th {\n",
       "        text-align: right;\n",
       "    }\n",
       "</style>\n",
       "<table border=\"1\" class=\"dataframe\">\n",
       "  <thead>\n",
       "    <tr style=\"text-align: right;\">\n",
       "      <th></th>\n",
       "      <th>firstblood</th>\n",
       "      <th>firstdragon</th>\n",
       "      <th>firsttower</th>\n",
       "      <th>result</th>\n",
       "      <th>golddiffat15</th>\n",
       "      <th>csdiffat15</th>\n",
       "      <th>xpdiffat15</th>\n",
       "      <th>killdiffat15</th>\n",
       "      <th>assistdiffat15</th>\n",
       "      <th>deathdiffat15</th>\n",
       "    </tr>\n",
       "  </thead>\n",
       "  <tbody>\n",
       "    <tr>\n",
       "      <th>count</th>\n",
       "      <td>17654.000000</td>\n",
       "      <td>17654.000000</td>\n",
       "      <td>17654.000000</td>\n",
       "      <td>17654.000000</td>\n",
       "      <td>17654.000000</td>\n",
       "      <td>17654.0000</td>\n",
       "      <td>17654.000000</td>\n",
       "      <td>17654.00000</td>\n",
       "      <td>17654.000000</td>\n",
       "      <td>17654.000000</td>\n",
       "    </tr>\n",
       "    <tr>\n",
       "      <th>mean</th>\n",
       "      <td>0.499264</td>\n",
       "      <td>0.499830</td>\n",
       "      <td>0.499943</td>\n",
       "      <td>0.499943</td>\n",
       "      <td>0.000000</td>\n",
       "      <td>0.0000</td>\n",
       "      <td>0.000000</td>\n",
       "      <td>0.00000</td>\n",
       "      <td>0.000000</td>\n",
       "      <td>0.000000</td>\n",
       "    </tr>\n",
       "    <tr>\n",
       "      <th>std</th>\n",
       "      <td>0.500014</td>\n",
       "      <td>0.500014</td>\n",
       "      <td>0.500014</td>\n",
       "      <td>0.500014</td>\n",
       "      <td>3075.916366</td>\n",
       "      <td>39.8683</td>\n",
       "      <td>1907.271833</td>\n",
       "      <td>3.58182</td>\n",
       "      <td>6.702235</td>\n",
       "      <td>3.580855</td>\n",
       "    </tr>\n",
       "    <tr>\n",
       "      <th>min</th>\n",
       "      <td>0.000000</td>\n",
       "      <td>0.000000</td>\n",
       "      <td>0.000000</td>\n",
       "      <td>0.000000</td>\n",
       "      <td>-17056.000000</td>\n",
       "      <td>-202.0000</td>\n",
       "      <td>-9580.000000</td>\n",
       "      <td>-20.00000</td>\n",
       "      <td>-33.000000</td>\n",
       "      <td>-20.000000</td>\n",
       "    </tr>\n",
       "    <tr>\n",
       "      <th>25%</th>\n",
       "      <td>0.000000</td>\n",
       "      <td>0.000000</td>\n",
       "      <td>0.000000</td>\n",
       "      <td>0.000000</td>\n",
       "      <td>-1923.750000</td>\n",
       "      <td>-26.0000</td>\n",
       "      <td>-1190.000000</td>\n",
       "      <td>-2.00000</td>\n",
       "      <td>-4.000000</td>\n",
       "      <td>-2.000000</td>\n",
       "    </tr>\n",
       "    <tr>\n",
       "      <th>50%</th>\n",
       "      <td>0.000000</td>\n",
       "      <td>0.000000</td>\n",
       "      <td>0.000000</td>\n",
       "      <td>0.000000</td>\n",
       "      <td>0.000000</td>\n",
       "      <td>0.0000</td>\n",
       "      <td>0.000000</td>\n",
       "      <td>0.00000</td>\n",
       "      <td>0.000000</td>\n",
       "      <td>0.000000</td>\n",
       "    </tr>\n",
       "    <tr>\n",
       "      <th>75%</th>\n",
       "      <td>1.000000</td>\n",
       "      <td>1.000000</td>\n",
       "      <td>1.000000</td>\n",
       "      <td>1.000000</td>\n",
       "      <td>1923.750000</td>\n",
       "      <td>26.0000</td>\n",
       "      <td>1190.000000</td>\n",
       "      <td>2.00000</td>\n",
       "      <td>4.000000</td>\n",
       "      <td>2.000000</td>\n",
       "    </tr>\n",
       "    <tr>\n",
       "      <th>max</th>\n",
       "      <td>1.000000</td>\n",
       "      <td>1.000000</td>\n",
       "      <td>1.000000</td>\n",
       "      <td>1.000000</td>\n",
       "      <td>17056.000000</td>\n",
       "      <td>202.0000</td>\n",
       "      <td>9580.000000</td>\n",
       "      <td>20.00000</td>\n",
       "      <td>33.000000</td>\n",
       "      <td>20.000000</td>\n",
       "    </tr>\n",
       "  </tbody>\n",
       "</table>\n",
       "</div>"
      ],
      "text/plain": [
       "         firstblood   firstdragon    firsttower        result  golddiffat15  \\\n",
       "count  17654.000000  17654.000000  17654.000000  17654.000000  17654.000000   \n",
       "mean       0.499264      0.499830      0.499943      0.499943      0.000000   \n",
       "std        0.500014      0.500014      0.500014      0.500014   3075.916366   \n",
       "min        0.000000      0.000000      0.000000      0.000000 -17056.000000   \n",
       "25%        0.000000      0.000000      0.000000      0.000000  -1923.750000   \n",
       "50%        0.000000      0.000000      0.000000      0.000000      0.000000   \n",
       "75%        1.000000      1.000000      1.000000      1.000000   1923.750000   \n",
       "max        1.000000      1.000000      1.000000      1.000000  17056.000000   \n",
       "\n",
       "       csdiffat15    xpdiffat15  killdiffat15  assistdiffat15  deathdiffat15  \n",
       "count  17654.0000  17654.000000   17654.00000    17654.000000   17654.000000  \n",
       "mean       0.0000      0.000000       0.00000        0.000000       0.000000  \n",
       "std       39.8683   1907.271833       3.58182        6.702235       3.580855  \n",
       "min     -202.0000  -9580.000000     -20.00000      -33.000000     -20.000000  \n",
       "25%      -26.0000  -1190.000000      -2.00000       -4.000000      -2.000000  \n",
       "50%        0.0000      0.000000       0.00000        0.000000       0.000000  \n",
       "75%       26.0000   1190.000000       2.00000        4.000000       2.000000  \n",
       "max      202.0000   9580.000000      20.00000       33.000000      20.000000  "
      ]
     },
     "execution_count": 16,
     "metadata": {},
     "output_type": "execute_result"
    }
   ],
   "source": [
    "dff.describe()"
   ]
  },
  {
   "cell_type": "code",
   "execution_count": 17,
   "id": "d726c30e",
   "metadata": {},
   "outputs": [
    {
     "data": {
      "image/png": "[encoded data removed]",
      "text/plain": [
       "<Figure size 1700x700 with 1 Axes>"
      ]
     },
     "metadata": {},
     "output_type": "display_data"
    },
    {
     "data": {
      "image/png": "[encoded data removed]",
      "text/plain": [
       "<Figure size 1700x700 with 1 Axes>"
      ]
     },
     "metadata": {},
     "output_type": "display_data"
    },
    {
     "data": {
      "image/png": "[encoded data removed]",
      "text/plain": [
       "<Figure size 1700x700 with 1 Axes>"
      ]
     },
     "metadata": {},
     "output_type": "display_data"
    },
    {
     "data": {
      "image/png": "[encoded data removed]",
      "text/plain": [
       "<Figure size 1700x700 with 1 Axes>"
      ]
     },
     "metadata": {},
     "output_type": "display_data"
    },
    {
     "data": {
      "image/png": "[encoded data removed]",
      "text/plain": [
       "<Figure size 1700x700 with 1 Axes>"
      ]
     },
     "metadata": {},
     "output_type": "display_data"
    },
    {
     "data": {
      "image/png": "[encoded data removed]",
      "text/plain": [
       "<Figure size 1700x700 with 1 Axes>"
      ]
     },
     "metadata": {},
     "output_type": "display_data"
    },
    {
     "data": {
      "image/png": "[encoded data removed]",
      "text/plain": [
       "<Figure size 1700x700 with 1 Axes>"
      ]
     },
     "metadata": {},
     "output_type": "display_data"
    },
    {
     "data": {
      "image/png": "[encoded data removed]",
      "text/plain": [
       "<Figure size 1700x700 with 1 Axes>"
      ]
     },
     "metadata": {},
     "output_type": "display_data"
    },
    {
     "data": {
      "image/png": "[encoded data removed]",
      "text/plain": [
       "<Figure size 1700x700 with 1 Axes>"
      ]
     },
     "metadata": {},
     "output_type": "display_data"
    },
    {
     "data": {
      "image/png": "[encoded data removed]",
      "text/plain": [
       "<Figure size 1700x700 with 1 Axes>"
      ]
     },
     "metadata": {},
     "output_type": "display_data"
    }
   ],
   "source": [
    "for col in selected:\n",
    "    sns.histplot(data = dff,x = col, hue = 'result')\n",
    "    plt.show()"
   ]
  },
  {
   "cell_type": "code",
   "execution_count": 18,
   "id": "7ca04a37",
   "metadata": {},
   "outputs": [
    {
     "data": {
      "image/png": "[encoded data removed]",
      "text/plain": [
       "<Figure size 1500x800 with 2 Axes>"
      ]
     },
     "metadata": {},
     "output_type": "display_data"
    }
   ],
   "source": [
    "plt.figure(figsize=(15,8))\n",
    "sns.heatmap(dff.corr(), annot = True)\n",
    "plt.show()"
   ]
  },
  {
   "cell_type": "markdown",
   "id": "ad5d26ee",
   "metadata": {},
   "source": [
    "based on the correlation matrix, I find out that golddiffat15 is the most significant factor for a winning game and the second is xp diff"
   ]
  },
  {
   "cell_type": "markdown",
   "id": "cc157dd9",
   "metadata": {},
   "source": [
    "# Baseline model"
   ]
  },
  {
   "cell_type": "code",
   "execution_count": 19,
   "id": "46da7877",
   "metadata": {},
   "outputs": [
    {
     "data": {
      "text/plain": [
       "Index(['firstblood', 'firstdragon', 'firsttower', 'result', 'golddiffat15',\n",
       "       'csdiffat15', 'xpdiffat15', 'killdiffat15', 'assistdiffat15',\n",
       "       'deathdiffat15'],\n",
       "      dtype='object')"
      ]
     },
     "execution_count": 19,
     "metadata": {},
     "output_type": "execute_result"
    }
   ],
   "source": [
    "from sklearn.decomposition import PCA\n",
    "dff.columns"
   ]
  },
  {
   "cell_type": "code",
   "execution_count": 20,
   "id": "0a8edcb8",
   "metadata": {},
   "outputs": [],
   "source": [
    "dfc = dff.copy()\n",
    "X = dfc.drop('result',axis = 1)\n",
    "y = dfc['result']\n",
    "X_train, X_test,y_train,y_test = train_test_split(X,y, test_size = 0.4,random_state=42, shuffle=True)\n",
    "\n",
    "mode_onehot_pipe = Pipeline([\n",
    "    ('encoder',SimpleImputer(strategy = 'most frequent')),\n",
    "    ('one hot encoder', OneHotEncoder(handle_unknown = 'ignore'))\n",
    "])\n",
    "transformer = ColumnTransformer([\n",
    "    ('one hot', OneHotEncoder(handle_unknown='ignore'), ['firstblood', 'firstdragon', 'firsttower','golddiffat15', 'csdiffat15', 'xpdiffat15', \"killdiffat15\", \"assistdiffat15\", \"deathdiffat15\"])  \n",
    "], remainder='passthrough')\n"
   ]
  },
  {
   "cell_type": "code",
   "execution_count": 21,
   "id": "1109dea7",
   "metadata": {},
   "outputs": [
    {
     "name": "stderr",
     "output_type": "stream",
     "text": [
      "C:\\Users\\wrzol\\anaconda3\\envs\\dsc80\\lib\\site-packages\\sklearn\\linear_model\\_logistic.py:460: ConvergenceWarning: lbfgs failed to converge (status=1):\n",
      "STOP: TOTAL NO. of ITERATIONS REACHED LIMIT.\n",
      "\n",
      "Increase the number of iterations (max_iter) or scale the data as shown in:\n",
      "    https://scikit-learn.org/stable/modules/preprocessing.html\n",
      "Please also refer to the documentation for alternative solver options:\n",
      "    https://scikit-learn.org/stable/modules/linear_model.html#logistic-regression\n",
      "  n_iter_i = _check_optimize_result(\n"
     ]
    }
   ],
   "source": [
    "logreg = LogisticRegression(random_state=42)\n",
    "tree = DecisionTreeClassifier(random_state=42)\n",
    "knn = KNeighborsClassifier()\n",
    "rf = RandomForestClassifier(random_state=42)\n",
    "svc = SVC(random_state=42)\n",
    "ada = AdaBoostClassifier(random_state=42)\n",
    "grad = GradientBoostingClassifier(random_state=42)\n",
    "logreg_pipe = Pipeline([('transformer', transformer), ('logreg', logreg)])\n",
    "tree_pipe = Pipeline([('transformer', transformer), ('tree', tree)])\n",
    "knn_pipe = Pipeline([('transformer', transformer), ('knn', knn)])\n",
    "rf_pipe = Pipeline([('transformer', transformer), ('rf', rf)])\n",
    "svc_pipe = Pipeline([('transformer', transformer), ('svc', svc)])\n",
    "ada_pipe = Pipeline([('transformer', transformer), ('ada', ada)])\n",
    "grad_pipe = Pipeline([('transformer', transformer), ('grad', grad)])\n",
    "for model in [logreg_pipe,tree_pipe,knn_pipe,rf_pipe,svc_pipe,ada_pipe,grad_pipe]:\n",
    "    model.fit(X_train,y_train)"
   ]
  },
  {
   "cell_type": "code",
   "execution_count": 22,
   "id": "ee9c41d5",
   "metadata": {},
   "outputs": [
    {
     "name": "stderr",
     "output_type": "stream",
     "text": [
      "C:\\Users\\wrzol\\anaconda3\\envs\\dsc80\\lib\\site-packages\\sklearn\\linear_model\\_logistic.py:460: ConvergenceWarning: lbfgs failed to converge (status=1):\n",
      "STOP: TOTAL NO. of ITERATIONS REACHED LIMIT.\n",
      "\n",
      "Increase the number of iterations (max_iter) or scale the data as shown in:\n",
      "    https://scikit-learn.org/stable/modules/preprocessing.html\n",
      "Please also refer to the documentation for alternative solver options:\n",
      "    https://scikit-learn.org/stable/modules/linear_model.html#logistic-regression\n",
      "  n_iter_i = _check_optimize_result(\n"
     ]
    },
    {
     "name": "stdout",
     "output_type": "stream",
     "text": [
      "                Method  Accuracy\n",
      "0  Logistic Regression  0.743840\n",
      "1        Decision Tree  0.702917\n",
      "2                  KNN  0.705607\n",
      "3        Random Forest  0.735344\n",
      "4                  SVC  0.744548\n",
      "5             AdaBoost  0.739309\n",
      "6    Gradient Boosting  0.740300\n"
     ]
    }
   ],
   "source": [
    "models = {\n",
    "    'Logistic Regression': LogisticRegression(random_state=42),\n",
    "    'Decision Tree': DecisionTreeClassifier(random_state=42),\n",
    "    'KNN': KNeighborsClassifier(),\n",
    "    'Random Forest': RandomForestClassifier(random_state=42),\n",
    "    'SVC': SVC(random_state=42),\n",
    "    'AdaBoost': AdaBoostClassifier(random_state=42),\n",
    "    'Gradient Boosting': GradientBoostingClassifier(random_state=42)\n",
    "}\n",
    "accuracy_scores = {}\n",
    "\n",
    "for name, model in models.items():\n",
    "    pipeline = Pipeline([('transformer', transformer), ('model', model)])\n",
    "    pipeline.fit(X_train, y_train)\n",
    "    y_pred = pipeline.predict(X_test)\n",
    "    accuracy_scores[name] = accuracy_score(y_test, y_pred)\n",
    "\n",
    "acc_summary = pd.DataFrame(list(accuracy_scores.items()), columns=['Method', 'Accuracy'])\n",
    "\n",
    "print(acc_summary)"
   ]
  },
  {
   "cell_type": "code",
   "execution_count": 23,
   "id": "525618dc",
   "metadata": {},
   "outputs": [
    {
     "name": "stderr",
     "output_type": "stream",
     "text": [
      "C:\\Users\\wrzol\\anaconda3\\envs\\dsc80\\lib\\site-packages\\sklearn\\linear_model\\_logistic.py:460: ConvergenceWarning: lbfgs failed to converge (status=1):\n",
      "STOP: TOTAL NO. of ITERATIONS REACHED LIMIT.\n",
      "\n",
      "Increase the number of iterations (max_iter) or scale the data as shown in:\n",
      "    https://scikit-learn.org/stable/modules/preprocessing.html\n",
      "Please also refer to the documentation for alternative solver options:\n",
      "    https://scikit-learn.org/stable/modules/linear_model.html#logistic-regression\n",
      "  n_iter_i = _check_optimize_result(\n"
     ]
    },
    {
     "name": "stdout",
     "output_type": "stream",
     "text": [
      "logreg F1 score: 0.7415\n",
      "tree F1 score: 0.7008\n",
      "knn F1 score: 0.7079\n",
      "rf F1 score: 0.7355\n",
      "svc F1 score: 0.7413\n",
      "ada F1 score: 0.7420\n",
      "grad F1 score: 0.7401\n"
     ]
    }
   ],
   "source": [
    "from sklearn.metrics import f1_score\n",
    "for model in [logreg_pipe, tree_pipe, knn_pipe, rf_pipe, svc_pipe, ada_pipe, grad_pipe]:\n",
    "    model_name = model.steps[-1][0]\n",
    "    model.fit(X_train, y_train)\n",
    "    y_pred = model.predict(X_test)\n",
    "\n",
    "    f1 = f1_score(y_test, y_pred, average='binary') \n",
    "    \n",
    "    print(f\"{model_name} F1 score: {f1:.4f}\")"
   ]
  },
  {
   "cell_type": "markdown",
   "id": "cbf85f4a",
   "metadata": {},
   "source": [
    "# Final Model"
   ]
  },
  {
   "cell_type": "code",
   "execution_count": 23,
   "id": "ce1e125c",
   "metadata": {},
   "outputs": [
    {
     "name": "stdout",
     "output_type": "stream",
     "text": [
      "Best parameters: {'model__max_depth': 150, 'model__n_estimators': 150}\n",
      "Best score: 0.7417872649141876\n"
     ]
    }
   ],
   "source": [
    "from sklearn.preprocessing import MaxAbsScaler, Normalizer\n",
    "from sklearn.model_selection import GridSearchCV\n",
    "\n",
    "\n",
    "\n",
    "pipeline = Pipeline([\n",
    "    ('transformer', transformer),\n",
    "    ('MaxAbsScale', MaxAbsScaler()),\n",
    "    ('normalize', Normalizer()),  \n",
    "    ('model', RandomForestClassifier(random_state=42))  \n",
    "])\n",
    "\n",
    "\n",
    "param_grid = {\n",
    "    'model__n_estimators': [150, 200, 250],\n",
    "    'model__max_depth': [None, 20, 120, 150], \n",
    "}\n",
    "\n",
    "grid_search = GridSearchCV(pipeline, param_grid, cv=5, scoring='accuracy')\n",
    "\n",
    "grid_search.fit(X_train, y_train)\n",
    "\n",
    "print(\"Best parameters:\", grid_search.best_params_)\n",
    "print(\"Best score:\", grid_search.best_score_)"
   ]
  },
  {
   "cell_type": "markdown",
   "id": "2072452e",
   "metadata": {},
   "source": [
    "Major Take Away: most likely, we could predict the outcome of a LOL match by the first 15 miniutes of the game."
   ]
  },
  {
   "cell_type": "markdown",
   "id": "5e2ba0db",
   "metadata": {},
   "source": [
    "# Interaction"
   ]
  },
  {
   "cell_type": "code",
   "execution_count": 24,
   "id": "dc5fa29a",
   "metadata": {},
   "outputs": [],
   "source": [
    "import ipywidgets as widgets\n",
    "from IPython.display import display\n",
    "from sklearn.pipeline import Pipeline\n",
    "from sklearn.compose import ColumnTransformer\n",
    "from sklearn.preprocessing import OneHotEncoder, StandardScaler\n",
    "from sklearn.ensemble import RandomForestClassifier\n",
    "import pandas as pd\n",
    "from ipywidgets import interact\n",
    "\n",
    "\n",
    "final_model = grid_search.best_estimator_\n"
   ]
  },
  {
   "cell_type": "code",
   "execution_count": 40,
   "id": "65835b46",
   "metadata": {},
   "outputs": [],
   "source": []
  },
  {
   "cell_type": "code",
   "execution_count": 25,
   "id": "f6d55a75",
   "metadata": {},
   "outputs": [
    {
     "data": {
      "application/vnd.jupyter.widget-view+json": {
       "model_id": "c0de3f0021a249a3b09c34db4f6480e3",
       "version_major": 2,
       "version_minor": 0
      },
      "text/plain": [
       "VBox(children=(Dropdown(description='First Blood:', options=(('Yes', 1), ('No', 0)), value=1), Dropdown(descri…"
      ]
     },
     "metadata": {},
     "output_type": "display_data"
    },
    {
     "data": {
      "application/vnd.jupyter.widget-view+json": {
       "model_id": "32c60403136242299d4c1cca34798bb6",
       "version_major": 2,
       "version_minor": 0
      },
      "text/plain": [
       "Label(value='')"
      ]
     },
     "metadata": {},
     "output_type": "display_data"
    }
   ],
   "source": [
    "import ipywidgets as widgets\n",
    "from IPython.display import display\n",
    "import pandas as pd\n",
    "\n",
    "final_model = grid_search.best_estimator_\n",
    "\n",
    "y_pred = grad.predict(X_test)\n",
    "accuracy = accuracy_score(y_test, y_pred)\n",
    "\n",
    "firstblood_widget = widgets.Dropdown(options=[('Yes', 1), ('No', 0)], description='First Blood:')\n",
    "firstdragon_widget = widgets.Dropdown(options=[('Yes', 1), ('No', 0)], description='First Dragon:')\n",
    "firsttower_widget = widgets.Dropdown(options=[('Yes', 1), ('No', 0)], description='First Tower:')\n",
    "golddiffat15_widget = widgets.IntText(description='Gold Diff at 15:')\n",
    "csdiffat15_widget = widgets.IntText(description='CS Diff at 15:')\n",
    "xpdiffat15_widget = widgets.IntText(description='XP Diff at 15:')\n",
    "killdiffat15_widget = widgets.IntText(description='Kill Diff at 15:')\n",
    "assistdiffat15_widget = widgets.IntText(description='Assist Diff at 15:')\n",
    "deathdiffat15_widget = widgets.IntText(description='Death Diff at 15:')\n",
    "\n",
    "def make_prediction(b):\n",
    "    input_data = pd.DataFrame({\n",
    "        'firstblood': [firstblood_widget.value],\n",
    "        'firstdragon': [firstdragon_widget.value],\n",
    "        'firsttower': [firsttower_widget.value],\n",
    "        'golddiffat15': [golddiffat15_widget.value],\n",
    "        'csdiffat15': [csdiffat15_widget.value],\n",
    "        'xpdiffat15': [xpdiffat15_widget.value],\n",
    "        'killdiffat15': [killdiffat15_widget.value],\n",
    "        'assistdiffat15': [assistdiffat15_widget.value],\n",
    "        'deathdiffat15': [deathdiffat15_widget.value]\n",
    "    })\n",
    "    prediction = grad.predict(input_data)\n",
    "    output_widget.value = f\"Prediction: {'Win' if prediction[0] == 1 else 'Lose'}\\nModel Accuracy: {accuracy:.4f}\"\n",
    "\n",
    "\n",
    "submit_button = widgets.Button(description='Predict Outcome')\n",
    "submit_button.on_click(make_prediction)\n",
    "\n",
    "\n",
    "output_widget = widgets.Label()\n",
    "\n",
    "input_widgets = widgets.VBox([\n",
    "    firstblood_widget,\n",
    "    firstdragon_widget,\n",
    "    firsttower_widget,\n",
    "    golddiffat15_widget,\n",
    "    csdiffat15_widget,\n",
    "    xpdiffat15_widget,\n",
    "    killdiffat15_widget,\n",
    "    assistdiffat15_widget,\n",
    "    deathdiffat15_widget,\n",
    "    submit_button\n",
    "])\n",
    "\n",
    "display(input_widgets, output_widget)"
   ]
  },
  {
   "cell_type": "code",
   "execution_count": null,
   "id": "ed1a6056",
   "metadata": {},
   "outputs": [],
   "source": [
    "\n"
   ]
  },
  {
   "cell_type": "code",
   "execution_count": null,
   "id": "eab01533",
   "metadata": {},
   "outputs": [],
   "source": [
    "\n",
    "\n"
   ]
  },
  {
   "cell_type": "code",
   "execution_count": null,
   "id": "deba3c4e",
   "metadata": {},
   "outputs": [],
   "source": []
  },
  {
   "cell_type": "code",
   "execution_count": 32,
   "id": "b4274808",
   "metadata": {},
   "outputs": [],
   "source": []
  },
  {
   "cell_type": "code",
   "execution_count": 33,
   "id": "a89ff630",
   "metadata": {},
   "outputs": [],
   "source": []
  },
  {
   "cell_type": "code",
   "execution_count": null,
   "id": "513bb6db",
   "metadata": {},
   "outputs": [],
   "source": []
  }
 ],
 "metadata": {
  "kernelspec": {
   "display_name": "Python 3 (ipykernel)",
   "language": "python",
   "name": "python3"
  },
  "language_info": {
   "codemirror_mode": {
    "name": "ipython",
    "version": 3
   },
   "file_extension": ".py",
   "mimetype": "text/x-python",
   "name": "python",
   "nbconvert_exporter": "python",
   "pygments_lexer": "ipython3",
   "version": "3.8.16"
  },
  "widgets": {
   "application/vnd.jupyter.widget-state+json": {
    "state": {
     "042d5c771d3642479318bb192b17e0f4": {
      "model_module": "@jupyter-widgets/output",
      "model_module_version": "1.0.0",
      "model_name": "OutputModel",
      "state": {
       "layout": "IPY_MODEL_8d3770657ffa42d0ba6c48532d2e961d",
       "msg_id": "fc6be975b87c481bb4ea289293e93729",
       "outputs": [
        {
         "data": {
          "text/plain": "'Prediction: Win'"
         },
         "metadata": {},
         "output_type": "display_data"
        }
       ]
      }
     },
     "094d45c7dc3044d9a0f3de8693d49a13": {
      "model_module": "@jupyter-widgets/base",
      "model_module_version": "2.0.0",
      "model_name": "LayoutModel",
      "state": {}
     },
     "144e82eb3a2f4cd6b813855a543e2bc2": {
      "model_module": "@jupyter-widgets/base",
      "model_module_version": "2.0.0",
      "model_name": "LayoutModel",
      "state": {}
     },
     "1556d673d2404612bc0101ad2377b30b": {
      "model_module": "@jupyter-widgets/controls",
      "model_module_version": "2.0.0",
      "model_name": "FloatTextModel",
      "state": {
       "description": "Gold Diff at 15:",
       "layout": "IPY_MODEL_f8228c3431c347bd8cdbe7a248427379",
       "step": null,
       "style": "IPY_MODEL_981bfc11fe1f4f34a105477a59cc6e0c",
       "value": -10000
      }
     },
     "15b5b64993aa4a48a18ab43271bfd0e3": {
      "model_module": "@jupyter-widgets/controls",
      "model_module_version": "2.0.0",
      "model_name": "DescriptionStyleModel",
      "state": {
       "description_width": ""
      }
     },
     "170714238d4241abafefa278abcd0348": {
      "model_module": "@jupyter-widgets/controls",
      "model_module_version": "2.0.0",
      "model_name": "SliderStyleModel",
      "state": {
       "description_width": ""
      }
     },
     "216afce288b84d3badd802afbea23352": {
      "model_module": "@jupyter-widgets/controls",
      "model_module_version": "2.0.0",
      "model_name": "FloatTextModel",
      "state": {
       "description": "XP Diff at 15:",
       "layout": "IPY_MODEL_d644fa3a8c64424682de65728fba1629",
       "step": null,
       "style": "IPY_MODEL_f0e352288a93481d8938bf311a271bd5",
       "value": -10000
      }
     },
     "217a43dcd2c54f23aeeaff2e1efed33f": {
      "model_module": "@jupyter-widgets/base",
      "model_module_version": "2.0.0",
      "model_name": "LayoutModel",
      "state": {}
     },
     "21802418d4934ae4a455da55136ea10a": {
      "model_module": "@jupyter-widgets/base",
      "model_module_version": "2.0.0",
      "model_name": "LayoutModel",
      "state": {}
     },
     "2c0e93c2f3d549d0a2bbab73797ac26d": {
      "model_module": "@jupyter-widgets/controls",
      "model_module_version": "2.0.0",
      "model_name": "DropdownModel",
      "state": {
       "_options_labels": [
        "Yes",
        "No"
       ],
       "description": "First Blood:",
       "index": 0,
       "layout": "IPY_MODEL_144e82eb3a2f4cd6b813855a543e2bc2",
       "style": "IPY_MODEL_37d1354931c9493abb09b31cf06eaf8b"
      }
     },
     "31f32500d8984e1b9e8f335f3b4dcdad": {
      "model_module": "@jupyter-widgets/controls",
      "model_module_version": "2.0.0",
      "model_name": "VBoxModel",
      "state": {
       "_dom_classes": [
        "widget-interact"
       ],
       "children": [
        "IPY_MODEL_ea218244491942e9bfecceff047727eb",
        "IPY_MODEL_8932ea6436334f249bc38e6b0c5ad645",
        "IPY_MODEL_aadf9ba67d4347f39b899164fd418ce4",
        "IPY_MODEL_1556d673d2404612bc0101ad2377b30b",
        "IPY_MODEL_d5c31744d567494a9ce1f186e0491d7b",
        "IPY_MODEL_216afce288b84d3badd802afbea23352",
        "IPY_MODEL_5fc77e6484e245ed9bebc412620e2acc",
        "IPY_MODEL_449a07d23042496b980b949c93d8cbbf",
        "IPY_MODEL_eaa5bfae279a48ebbf6cc0ee6e1ff357",
        "IPY_MODEL_042d5c771d3642479318bb192b17e0f4"
       ],
       "layout": "IPY_MODEL_a3a0b26528ba4aa0a5642a58d5a42f82"
      }
     },
     "37d1354931c9493abb09b31cf06eaf8b": {
      "model_module": "@jupyter-widgets/controls",
      "model_module_version": "2.0.0",
      "model_name": "DescriptionStyleModel",
      "state": {
       "description_width": ""
      }
     },
     "449a07d23042496b980b949c93d8cbbf": {
      "model_module": "@jupyter-widgets/controls",
      "model_module_version": "2.0.0",
      "model_name": "FloatTextModel",
      "state": {
       "description": "Assist Diff at 15:",
       "layout": "IPY_MODEL_990fe041d18b4facb2e890c26303b361",
       "step": null,
       "style": "IPY_MODEL_e4ca40820a214475acc047b7f7a31056",
       "value": -15
      }
     },
     "56ccaa636d004f3f8a19618b045dba08": {
      "model_module": "@jupyter-widgets/base",
      "model_module_version": "2.0.0",
      "model_name": "LayoutModel",
      "state": {}
     },
     "56f7d9df249f432e8b44b4bdd03b15a6": {
      "model_module": "@jupyter-widgets/controls",
      "model_module_version": "2.0.0",
      "model_name": "DescriptionStyleModel",
      "state": {
       "description_width": ""
      }
     },
     "5ab2459929bc4fb985929bb6eac9984d": {
      "model_module": "@jupyter-widgets/controls",
      "model_module_version": "2.0.0",
      "model_name": "DescriptionStyleModel",
      "state": {
       "description_width": ""
      }
     },
     "5fc77e6484e245ed9bebc412620e2acc": {
      "model_module": "@jupyter-widgets/controls",
      "model_module_version": "2.0.0",
      "model_name": "FloatTextModel",
      "state": {
       "description": "Kill Diff at 15:",
       "layout": "IPY_MODEL_cd2cf905148642628e1de68174655c7c",
       "step": null,
       "style": "IPY_MODEL_5ab2459929bc4fb985929bb6eac9984d",
       "value": -15
      }
     },
     "6ea7e2c7e9524ebeb96eccec16ef9229": {
      "model_module": "@jupyter-widgets/controls",
      "model_module_version": "2.0.0",
      "model_name": "DescriptionStyleModel",
      "state": {
       "description_width": ""
      }
     },
     "725bfbffa51f4f3a894d1d78f78b8b5b": {
      "model_module": "@jupyter-widgets/controls",
      "model_module_version": "2.0.0",
      "model_name": "DescriptionStyleModel",
      "state": {
       "description_width": ""
      }
     },
     "81d0478dcf5f435d810080e30bc577f3": {
      "model_module": "@jupyter-widgets/controls",
      "model_module_version": "2.0.0",
      "model_name": "FloatSliderModel",
      "state": {
       "behavior": "drag-tap",
       "description": "Gold Diff at 15:",
       "layout": "IPY_MODEL_8fb9fba202ae4ecc9e89b6cf1acd78b6",
       "max": 10000,
       "min": -10000,
       "step": 100,
       "style": "IPY_MODEL_170714238d4241abafefa278abcd0348"
      }
     },
     "827f129b69f3439a95bbe8df89998f38": {
      "model_module": "@jupyter-widgets/base",
      "model_module_version": "2.0.0",
      "model_name": "LayoutModel",
      "state": {}
     },
     "8932ea6436334f249bc38e6b0c5ad645": {
      "model_module": "@jupyter-widgets/controls",
      "model_module_version": "2.0.0",
      "model_name": "DropdownModel",
      "state": {
       "_options_labels": [
        "Yes",
        "No"
       ],
       "description": "First Dragon:",
       "index": 1,
       "layout": "IPY_MODEL_be85a35d802b4770a9c0d74d5da370fe",
       "style": "IPY_MODEL_15b5b64993aa4a48a18ab43271bfd0e3"
      }
     },
     "8d3770657ffa42d0ba6c48532d2e961d": {
      "model_module": "@jupyter-widgets/base",
      "model_module_version": "2.0.0",
      "model_name": "LayoutModel",
      "state": {}
     },
     "8fb9fba202ae4ecc9e89b6cf1acd78b6": {
      "model_module": "@jupyter-widgets/base",
      "model_module_version": "2.0.0",
      "model_name": "LayoutModel",
      "state": {}
     },
     "9098322defa5427a9ca21400ff8f92d3": {
      "model_module": "@jupyter-widgets/controls",
      "model_module_version": "2.0.0",
      "model_name": "DescriptionStyleModel",
      "state": {
       "description_width": ""
      }
     },
     "95b2168ab16c4d90a0f1a60477157d09": {
      "model_module": "@jupyter-widgets/controls",
      "model_module_version": "2.0.0",
      "model_name": "DescriptionStyleModel",
      "state": {
       "description_width": ""
      }
     },
     "981bfc11fe1f4f34a105477a59cc6e0c": {
      "model_module": "@jupyter-widgets/controls",
      "model_module_version": "2.0.0",
      "model_name": "DescriptionStyleModel",
      "state": {
       "description_width": ""
      }
     },
     "990fe041d18b4facb2e890c26303b361": {
      "model_module": "@jupyter-widgets/base",
      "model_module_version": "2.0.0",
      "model_name": "LayoutModel",
      "state": {}
     },
     "a3a0b26528ba4aa0a5642a58d5a42f82": {
      "model_module": "@jupyter-widgets/base",
      "model_module_version": "2.0.0",
      "model_name": "LayoutModel",
      "state": {}
     },
     "a69af82feedf41318ecbaa7636e5ac0f": {
      "model_module": "@jupyter-widgets/controls",
      "model_module_version": "2.0.0",
      "model_name": "DropdownModel",
      "state": {
       "_options_labels": [
        "Yes",
        "No"
       ],
       "description": "First Dragon:",
       "index": 0,
       "layout": "IPY_MODEL_c449f3047a924a288c9a9c5ae9039601",
       "style": "IPY_MODEL_725bfbffa51f4f3a894d1d78f78b8b5b"
      }
     },
     "a9a2306efc29404ca0c94a65600ba428": {
      "model_module": "@jupyter-widgets/base",
      "model_module_version": "2.0.0",
      "model_name": "LayoutModel",
      "state": {}
     },
     "aa01354a429b45c39accd0c9b224629c": {
      "model_module": "@jupyter-widgets/output",
      "model_module_version": "1.0.0",
      "model_name": "OutputModel",
      "state": {
       "layout": "IPY_MODEL_b44fa9a649734c29b5ea7fa4ef88ffdf",
       "outputs": [
        {
         "data": {
          "text/plain": "'Prediction: Lose'"
         },
         "metadata": {},
         "output_type": "display_data"
        }
       ]
      }
     },
     "aadf9ba67d4347f39b899164fd418ce4": {
      "model_module": "@jupyter-widgets/controls",
      "model_module_version": "2.0.0",
      "model_name": "DropdownModel",
      "state": {
       "_options_labels": [
        "Yes",
        "No"
       ],
       "description": "First Tower:",
       "index": 1,
       "layout": "IPY_MODEL_094d45c7dc3044d9a0f3de8693d49a13",
       "style": "IPY_MODEL_95b2168ab16c4d90a0f1a60477157d09"
      }
     },
     "ab5bcddac64649738ee64089758741b7": {
      "model_module": "@jupyter-widgets/controls",
      "model_module_version": "2.0.0",
      "model_name": "VBoxModel",
      "state": {
       "_dom_classes": [
        "widget-interact"
       ],
       "children": [
        "IPY_MODEL_ea218244491942e9bfecceff047727eb",
        "IPY_MODEL_8932ea6436334f249bc38e6b0c5ad645",
        "IPY_MODEL_aadf9ba67d4347f39b899164fd418ce4",
        "IPY_MODEL_1556d673d2404612bc0101ad2377b30b",
        "IPY_MODEL_d5c31744d567494a9ce1f186e0491d7b",
        "IPY_MODEL_216afce288b84d3badd802afbea23352",
        "IPY_MODEL_5fc77e6484e245ed9bebc412620e2acc",
        "IPY_MODEL_449a07d23042496b980b949c93d8cbbf",
        "IPY_MODEL_eaa5bfae279a48ebbf6cc0ee6e1ff357",
        "IPY_MODEL_d3923a86710347528e4a89bc5dff02a9"
       ],
       "layout": "IPY_MODEL_21802418d4934ae4a455da55136ea10a"
      }
     },
     "b44fa9a649734c29b5ea7fa4ef88ffdf": {
      "model_module": "@jupyter-widgets/base",
      "model_module_version": "2.0.0",
      "model_name": "LayoutModel",
      "state": {}
     },
     "be85a35d802b4770a9c0d74d5da370fe": {
      "model_module": "@jupyter-widgets/base",
      "model_module_version": "2.0.0",
      "model_name": "LayoutModel",
      "state": {}
     },
     "c449f3047a924a288c9a9c5ae9039601": {
      "model_module": "@jupyter-widgets/base",
      "model_module_version": "2.0.0",
      "model_name": "LayoutModel",
      "state": {}
     },
     "cd2cf905148642628e1de68174655c7c": {
      "model_module": "@jupyter-widgets/base",
      "model_module_version": "2.0.0",
      "model_name": "LayoutModel",
      "state": {}
     },
     "d15f5d65b8434443807147dd560a75d7": {
      "model_module": "@jupyter-widgets/base",
      "model_module_version": "2.0.0",
      "model_name": "LayoutModel",
      "state": {}
     },
     "d3923a86710347528e4a89bc5dff02a9": {
      "model_module": "@jupyter-widgets/output",
      "model_module_version": "1.0.0",
      "model_name": "OutputModel",
      "state": {
       "layout": "IPY_MODEL_217a43dcd2c54f23aeeaff2e1efed33f",
       "outputs": [
        {
         "data": {
          "text/plain": "'Prediction: Win'"
         },
         "metadata": {},
         "output_type": "display_data"
        }
       ]
      }
     },
     "d5c31744d567494a9ce1f186e0491d7b": {
      "model_module": "@jupyter-widgets/controls",
      "model_module_version": "2.0.0",
      "model_name": "FloatTextModel",
      "state": {
       "description": "CS Diff at 15:",
       "layout": "IPY_MODEL_a9a2306efc29404ca0c94a65600ba428",
       "step": null,
       "style": "IPY_MODEL_56f7d9df249f432e8b44b4bdd03b15a6",
       "value": -10000
      }
     },
     "d644fa3a8c64424682de65728fba1629": {
      "model_module": "@jupyter-widgets/base",
      "model_module_version": "2.0.0",
      "model_name": "LayoutModel",
      "state": {}
     },
     "e4ca40820a214475acc047b7f7a31056": {
      "model_module": "@jupyter-widgets/controls",
      "model_module_version": "2.0.0",
      "model_name": "DescriptionStyleModel",
      "state": {
       "description_width": ""
      }
     },
     "e51044c936eb49e795c0241855005cd9": {
      "model_module": "@jupyter-widgets/controls",
      "model_module_version": "2.0.0",
      "model_name": "VBoxModel",
      "state": {
       "_dom_classes": [
        "widget-interact"
       ],
       "children": [
        "IPY_MODEL_ea218244491942e9bfecceff047727eb",
        "IPY_MODEL_8932ea6436334f249bc38e6b0c5ad645",
        "IPY_MODEL_aadf9ba67d4347f39b899164fd418ce4",
        "IPY_MODEL_1556d673d2404612bc0101ad2377b30b",
        "IPY_MODEL_d5c31744d567494a9ce1f186e0491d7b",
        "IPY_MODEL_216afce288b84d3badd802afbea23352",
        "IPY_MODEL_5fc77e6484e245ed9bebc412620e2acc",
        "IPY_MODEL_449a07d23042496b980b949c93d8cbbf",
        "IPY_MODEL_eaa5bfae279a48ebbf6cc0ee6e1ff357",
        "IPY_MODEL_aa01354a429b45c39accd0c9b224629c"
       ],
       "layout": "IPY_MODEL_d15f5d65b8434443807147dd560a75d7"
      }
     },
     "ea218244491942e9bfecceff047727eb": {
      "model_module": "@jupyter-widgets/controls",
      "model_module_version": "2.0.0",
      "model_name": "DropdownModel",
      "state": {
       "_options_labels": [
        "Yes",
        "No"
       ],
       "description": "First Blood:",
       "index": 1,
       "layout": "IPY_MODEL_56ccaa636d004f3f8a19618b045dba08",
       "style": "IPY_MODEL_6ea7e2c7e9524ebeb96eccec16ef9229"
      }
     },
     "eaa5bfae279a48ebbf6cc0ee6e1ff357": {
      "model_module": "@jupyter-widgets/controls",
      "model_module_version": "2.0.0",
      "model_name": "FloatTextModel",
      "state": {
       "description": "Death Diff at 15:",
       "layout": "IPY_MODEL_827f129b69f3439a95bbe8df89998f38",
       "step": null,
       "style": "IPY_MODEL_9098322defa5427a9ca21400ff8f92d3",
       "value": -15
      }
     },
     "f0e352288a93481d8938bf311a271bd5": {
      "model_module": "@jupyter-widgets/controls",
      "model_module_version": "2.0.0",
      "model_name": "DescriptionStyleModel",
      "state": {
       "description_width": ""
      }
     },
     "f8228c3431c347bd8cdbe7a248427379": {
      "model_module": "@jupyter-widgets/base",
      "model_module_version": "2.0.0",
      "model_name": "LayoutModel",
      "state": {}
     }
    },
    "version_major": 2,
    "version_minor": 0
   }
  }
 },
 "nbformat": 4,
 "nbformat_minor": 5
}
